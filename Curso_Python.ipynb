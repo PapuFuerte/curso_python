{
  "nbformat": 4,
  "nbformat_minor": 0,
  "metadata": {
    "colab": {
      "provenance": [],
      "authorship_tag": "ABX9TyNyVbsF5L/HgdssiHTANKwu",
      "include_colab_link": true
    },
    "kernelspec": {
      "name": "python3",
      "display_name": "Python 3"
    },
    "language_info": {
      "name": "python"
    }
  },
  "cells": [
    {
      "cell_type": "markdown",
      "metadata": {
        "id": "view-in-github",
        "colab_type": "text"
      },
      "source": [
        "<a href=\"https://colab.research.google.com/github/PapuFuerte/curso_python/blob/main/Curso_Python.ipynb\" target=\"_parent\"><img src=\"https://colab.research.google.com/assets/colab-badge.svg\" alt=\"Open In Colab\"/></a>"
      ]
    },
    {
      "cell_type": "markdown",
      "source": [
        "# Curso Python"
      ],
      "metadata": {
        "id": "5BHDOzS-cgjm"
      }
    },
    {
      "cell_type": "markdown",
      "source": [
        "## `Python` basico\n",
        "\n",
        "### `Variables`\n",
        "\n",
        "Las variables son espacios de memoria que asignamos con nombres o letras.\n",
        "\n",
        "En python es la relación que existe entre un nombre y un objeto\n"
      ],
      "metadata": {
        "id": "Fit0zhJohcxd"
      }
    },
    {
      "cell_type": "code",
      "source": [
        "x = 1\n",
        "nombre = 'Guido Van Rossum'\n",
        "x,nombre"
      ],
      "metadata": {
        "colab": {
          "base_uri": "https://localhost:8080/"
        },
        "id": "T71bg6XOiNPR",
        "outputId": "c2ee7304-16c7-4b95-b804-a31cd05bdf42"
      },
      "execution_count": null,
      "outputs": [
        {
          "output_type": "execute_result",
          "data": {
            "text/plain": [
              "(1, 'Guido Van Rossum')"
            ]
          },
          "metadata": {},
          "execution_count": 2
        }
      ]
    },
    {
      "cell_type": "markdown",
      "source": [
        "#### Restricciones para crear variables\n",
        "* No puede comenzar por caracteres especiales\n",
        "* No puede empezar por algún número\n",
        "* No se puede llamar igual que una palabra reservada en python\n",
        "* No puede contener espacios\n",
        "\n",
        "\n",
        "Tipos de sintaxis validas para crear variables dentro de python\n",
        "* `camelCase`: `nombreVariable`\n",
        "* `PascalCase`: `NombreVariable`\n",
        "* `snake_case`: `nombre_variable`\n",
        "* `kebeb-case`: `nombre-variable`\n",
        "\n",
        "No es un standar pero se recomienda lo siguiente para cada tipo de dato que manejaremos\n",
        "\n",
        "* Variables : `camelCase`\n",
        "* Funciones : `snake_case`\n",
        "* Objetos : `PascalCase`\n"
      ],
      "metadata": {
        "id": "AUY8-HbKi16Y"
      }
    },
    {
      "cell_type": "markdown",
      "source": [
        "### Palabras claves dentro de `python`\n",
        "Son palabras reservadas por el lenguaje y que se recomienda no usar bajo ninguna circunstancia."
      ],
      "metadata": {
        "id": "RyYytDGojxWv"
      }
    },
    {
      "cell_type": "code",
      "source": [
        "import keyword\n",
        "keyword.kwlist"
      ],
      "metadata": {
        "colab": {
          "base_uri": "https://localhost:8080/"
        },
        "id": "8kqXymBij7fV",
        "outputId": "947762f6-d8cd-4bb1-9b43-e778f9a05cdb"
      },
      "execution_count": null,
      "outputs": [
        {
          "output_type": "execute_result",
          "data": {
            "text/plain": [
              "['False',\n",
              " 'None',\n",
              " 'True',\n",
              " 'and',\n",
              " 'as',\n",
              " 'assert',\n",
              " 'async',\n",
              " 'await',\n",
              " 'break',\n",
              " 'class',\n",
              " 'continue',\n",
              " 'def',\n",
              " 'del',\n",
              " 'elif',\n",
              " 'else',\n",
              " 'except',\n",
              " 'finally',\n",
              " 'for',\n",
              " 'from',\n",
              " 'global',\n",
              " 'if',\n",
              " 'import',\n",
              " 'in',\n",
              " 'is',\n",
              " 'lambda',\n",
              " 'nonlocal',\n",
              " 'not',\n",
              " 'or',\n",
              " 'pass',\n",
              " 'raise',\n",
              " 'return',\n",
              " 'try',\n",
              " 'while',\n",
              " 'with',\n",
              " 'yield']"
            ]
          },
          "metadata": {},
          "execution_count": 11
        }
      ]
    },
    {
      "cell_type": "markdown",
      "source": [
        "### Zen de python\n",
        "El siguiente codigo nos ayuda a ver el zen de python, que basicamente son las reglas que se deben de seguir para programar."
      ],
      "metadata": {
        "id": "TGtF3NeclsjP"
      }
    },
    {
      "cell_type": "code",
      "source": [
        "import this"
      ],
      "metadata": {
        "id": "P8J-bKtoeN3x",
        "colab": {
          "base_uri": "https://localhost:8080/"
        },
        "outputId": "45fe3777-ad71-46eb-fd8d-63584273047d"
      },
      "execution_count": null,
      "outputs": [
        {
          "output_type": "stream",
          "name": "stdout",
          "text": [
            "The Zen of Python, by Tim Peters\n",
            "\n",
            "Beautiful is better than ugly.\n",
            "Explicit is better than implicit.\n",
            "Simple is better than complex.\n",
            "Complex is better than complicated.\n",
            "Flat is better than nested.\n",
            "Sparse is better than dense.\n",
            "Readability counts.\n",
            "Special cases aren't special enough to break the rules.\n",
            "Although practicality beats purity.\n",
            "Errors should never pass silently.\n",
            "Unless explicitly silenced.\n",
            "In the face of ambiguity, refuse the temptation to guess.\n",
            "There should be one-- and preferably only one --obvious way to do it.\n",
            "Although that way may not be obvious at first unless you're Dutch.\n",
            "Now is better than never.\n",
            "Although never is often better than *right* now.\n",
            "If the implementation is hard to explain, it's a bad idea.\n",
            "If the implementation is easy to explain, it may be a good idea.\n",
            "Namespaces are one honking great idea -- let's do more of those!\n"
          ]
        }
      ]
    },
    {
      "cell_type": "markdown",
      "source": [
        "### Declarando multiples variables\n",
        "\n",
        "Este sirve para nosotros declarar una variable en una misma línea."
      ],
      "metadata": {
        "id": "p3Xsrn_Il9eJ"
      }
    },
    {
      "cell_type": "code",
      "source": [
        "a,b,c = 1,2,3\n",
        "suma = None\n",
        "suma = a + b + c\n",
        "suma"
      ],
      "metadata": {
        "colab": {
          "base_uri": "https://localhost:8080/"
        },
        "id": "fbQqJptcl_r3",
        "outputId": "7ba59b3b-5e68-4955-ba95-75c9ea3c7a94"
      },
      "execution_count": null,
      "outputs": [
        {
          "output_type": "execute_result",
          "data": {
            "text/plain": [
              "6"
            ]
          },
          "metadata": {},
          "execution_count": 13
        }
      ]
    },
    {
      "cell_type": "markdown",
      "source": [
        "### Operaciones con variables númericas"
      ],
      "metadata": {
        "id": "A52rt2qsmljk"
      }
    },
    {
      "cell_type": "code",
      "source": [
        "a = 4\n",
        "a + 1"
      ],
      "metadata": {
        "colab": {
          "base_uri": "https://localhost:8080/"
        },
        "id": "6ufb4AFdmEi8",
        "outputId": "592d66a6-5961-4380-9b24-6418ed2adaca"
      },
      "execution_count": null,
      "outputs": [
        {
          "output_type": "execute_result",
          "data": {
            "text/plain": [
              "5"
            ]
          },
          "metadata": {},
          "execution_count": 16
        }
      ]
    },
    {
      "cell_type": "code",
      "source": [
        "y = a + 4\n",
        "y"
      ],
      "metadata": {
        "colab": {
          "base_uri": "https://localhost:8080/"
        },
        "id": "aYD3fo2mmput",
        "outputId": "008ab471-e18e-4250-86a1-508cd1984f1b"
      },
      "execution_count": null,
      "outputs": [
        {
          "output_type": "execute_result",
          "data": {
            "text/plain": [
              "8"
            ]
          },
          "metadata": {},
          "execution_count": 22
        }
      ]
    },
    {
      "cell_type": "code",
      "source": [
        "y = y + 4\n",
        "y"
      ],
      "metadata": {
        "colab": {
          "base_uri": "https://localhost:8080/"
        },
        "id": "gwvSPirBmujN",
        "outputId": "c90e36cd-4e34-4a8f-dac0-96bed49d1b21"
      },
      "execution_count": null,
      "outputs": [
        {
          "output_type": "execute_result",
          "data": {
            "text/plain": [
              "24"
            ]
          },
          "metadata": {},
          "execution_count": 26
        }
      ]
    },
    {
      "cell_type": "code",
      "source": [
        "y += 4\n",
        "y"
      ],
      "metadata": {
        "colab": {
          "base_uri": "https://localhost:8080/"
        },
        "id": "eZ0uy_eqm1Ip",
        "outputId": "6a5ac55b-7405-49bf-da5b-a65cf26a427a"
      },
      "execution_count": null,
      "outputs": [
        {
          "output_type": "execute_result",
          "data": {
            "text/plain": [
              "32"
            ]
          },
          "metadata": {},
          "execution_count": 28
        }
      ]
    },
    {
      "cell_type": "markdown",
      "source": [
        "### Como hacer comentarios\n",
        "Para nosotros haceer un comentario ocupamos la almohadilla o numeral `#`"
      ],
      "metadata": {
        "id": "KtUOAPj-nHdA"
      }
    },
    {
      "cell_type": "code",
      "source": [
        "# esto será un hola \n",
        "z = 'Hola'\n",
        "# esto no se ejecuta pero debajo ponemos z\n",
        "z\n",
        "# esto si se imprime"
      ],
      "metadata": {
        "colab": {
          "base_uri": "https://localhost:8080/",
          "height": 35
        },
        "id": "OKhi8azBnA8b",
        "outputId": "c06c5585-fb87-46ff-87b3-da1afc7a6e2c"
      },
      "execution_count": null,
      "outputs": [
        {
          "output_type": "execute_result",
          "data": {
            "text/plain": [
              "'Hola'"
            ],
            "application/vnd.google.colaboratory.intrinsic+json": {
              "type": "string"
            }
          },
          "metadata": {},
          "execution_count": 29
        }
      ]
    },
    {
      "cell_type": "markdown",
      "source": [
        "Los comentarios sirven para nosotros poder ejecutar, pero igual no se recomienda abusar de ellos, ya que esto puede ser una desventaja en vez de una ayuda."
      ],
      "metadata": {
        "id": "nksSYJhInrnZ"
      }
    },
    {
      "cell_type": "markdown",
      "source": [
        "### Función `import`\n",
        "esta nos ayuda a importar las librerías necesarias para poder ejecutar nuestro codigo dependiendo su complejidad."
      ],
      "metadata": {
        "id": "aLNs7xGhn5gc"
      }
    },
    {
      "cell_type": "code",
      "source": [
        "import math\n",
        "print('imprimiendo pi:', math.pi)"
      ],
      "metadata": {
        "colab": {
          "base_uri": "https://localhost:8080/"
        },
        "id": "Racu9Cp4nlvv",
        "outputId": "54c36e1b-c683-499a-aa5e-631ebf50ee62"
      },
      "execution_count": null,
      "outputs": [
        {
          "output_type": "stream",
          "name": "stdout",
          "text": [
            "imprimiendo pi: 3.141592653589793\n"
          ]
        }
      ]
    },
    {
      "cell_type": "code",
      "source": [
        "print('imprimiendo numero e:',math.e)"
      ],
      "metadata": {
        "colab": {
          "base_uri": "https://localhost:8080/"
        },
        "id": "jhKSz1Oloyqc",
        "outputId": "c01cc5d9-4958-4012-a25d-3105aabe2c38"
      },
      "execution_count": null,
      "outputs": [
        {
          "output_type": "stream",
          "name": "stdout",
          "text": [
            "imprimiendo numero e: 2.718281828459045\n"
          ]
        }
      ]
    },
    {
      "cell_type": "markdown",
      "source": [
        "importando la misma librería pero cambiando el nombre de la misma"
      ],
      "metadata": {
        "id": "zeNlIxMjpQ5Q"
      }
    },
    {
      "cell_type": "code",
      "source": [
        "import math as mt\n",
        "print('imprimiendo pi:' , mt.pi)"
      ],
      "metadata": {
        "colab": {
          "base_uri": "https://localhost:8080/"
        },
        "id": "4r1rQV5go8t-",
        "outputId": "37be6a3a-252b-45b7-c755-7c879f200da1"
      },
      "execution_count": null,
      "outputs": [
        {
          "output_type": "stream",
          "name": "stdout",
          "text": [
            "imprimiendo pi: 3.141592653589793\n"
          ]
        }
      ]
    },
    {
      "cell_type": "markdown",
      "source": [
        "Imprimiendo solamente una función de nuestra librería\n"
      ],
      "metadata": {
        "id": "7DcvSf2qpYcn"
      }
    },
    {
      "cell_type": "code",
      "source": [
        "from math import pi as p\n",
        "print(\"Valor numero pi:\",p)"
      ],
      "metadata": {
        "colab": {
          "base_uri": "https://localhost:8080/"
        },
        "id": "tVaWMe3upPf2",
        "outputId": "8b0c49cc-e033-44d5-a881-560593efd5fd"
      },
      "execution_count": null,
      "outputs": [
        {
          "output_type": "stream",
          "name": "stdout",
          "text": [
            "Valor numero pi: 3.141592653589793\n"
          ]
        }
      ]
    },
    {
      "cell_type": "markdown",
      "source": [
        "cargando diferentes funciones"
      ],
      "metadata": {
        "id": "EVNYg8h5qOLD"
      }
    },
    {
      "cell_type": "code",
      "source": [
        "from math import pi as p, log as l, exp as ex\n",
        "\n",
        "print(p,l(10),ex(1))"
      ],
      "metadata": {
        "colab": {
          "base_uri": "https://localhost:8080/"
        },
        "id": "Ajg5-7sdps5e",
        "outputId": "9aa0846b-19a4-4bd9-cff1-29494e048cbc"
      },
      "execution_count": null,
      "outputs": [
        {
          "output_type": "stream",
          "name": "stdout",
          "text": [
            "3.141592653589793 2.302585092994046 2.718281828459045\n"
          ]
        }
      ]
    },
    {
      "cell_type": "code",
      "source": [
        "from math import *\n",
        "print(log(10))"
      ],
      "metadata": {
        "colab": {
          "base_uri": "https://localhost:8080/"
        },
        "id": "vly2SjbnqVyN",
        "outputId": "6b39ff24-b334-4016-e460-6407b6e84438"
      },
      "execution_count": null,
      "outputs": [
        {
          "output_type": "stream",
          "name": "stdout",
          "text": [
            "2.302585092994046\n"
          ]
        }
      ]
    },
    {
      "cell_type": "markdown",
      "source": [
        "## string en `Python`\n",
        "Cadena de caracteres dentro de python"
      ],
      "metadata": {
        "id": "eB-7o4shrmwx"
      }
    },
    {
      "cell_type": "code",
      "source": [
        "s1 = \"Esto es un string de comilla doble\"\n",
        "type(s1)"
      ],
      "metadata": {
        "colab": {
          "base_uri": "https://localhost:8080/"
        },
        "id": "td5uO0WXqbLb",
        "outputId": "4ae759fa-c638-4fe0-81c5-457b7768f9c0"
      },
      "execution_count": null,
      "outputs": [
        {
          "output_type": "execute_result",
          "data": {
            "text/plain": [
              "str"
            ]
          },
          "metadata": {},
          "execution_count": 49
        }
      ]
    },
    {
      "cell_type": "code",
      "source": [
        "s2 = 'Esto es un string de comilla simple'\n",
        "type(s2)"
      ],
      "metadata": {
        "colab": {
          "base_uri": "https://localhost:8080/"
        },
        "id": "yE87ArrTyfGQ",
        "outputId": "759f8d5d-0b55-4363-d1aa-34f8f2041119"
      },
      "execution_count": null,
      "outputs": [
        {
          "output_type": "execute_result",
          "data": {
            "text/plain": [
              "str"
            ]
          },
          "metadata": {},
          "execution_count": 50
        }
      ]
    },
    {
      "cell_type": "code",
      "source": [
        "\"imprimiendo los dos strings:\",s1,s2"
      ],
      "metadata": {
        "colab": {
          "base_uri": "https://localhost:8080/"
        },
        "id": "bd8X8jRVylYv",
        "outputId": "5fd41108-fbac-448b-8a3d-feeccb47d33d"
      },
      "execution_count": null,
      "outputs": [
        {
          "output_type": "execute_result",
          "data": {
            "text/plain": [
              "('imprimiendo los dos strings:',\n",
              " 'Esto es un string de comilla doble',\n",
              " 'Esto es un string de comilla simple')"
            ]
          },
          "metadata": {},
          "execution_count": 52
        }
      ]
    },
    {
      "cell_type": "code",
      "source": [
        "'Citando a Carlos: \"Yo creo que python es facil\"'"
      ],
      "metadata": {
        "colab": {
          "base_uri": "https://localhost:8080/",
          "height": 35
        },
        "id": "RX9r6V03yrzR",
        "outputId": "5f5e538b-771e-4baf-feb4-daa548fb8b86"
      },
      "execution_count": null,
      "outputs": [
        {
          "output_type": "execute_result",
          "data": {
            "text/plain": [
              "'Citando a Carlos: \"Yo creo que python es facil\"'"
            ],
            "application/vnd.google.colaboratory.intrinsic+json": {
              "type": "string"
            }
          },
          "metadata": {},
          "execution_count": 53
        }
      ]
    },
    {
      "cell_type": "markdown",
      "source": [
        "**nota:** Evita los acentos"
      ],
      "metadata": {
        "id": "t7bo6P4My6tr"
      }
    },
    {
      "cell_type": "markdown",
      "source": [
        "### Strings Literals\n",
        "\n",
        "* `\\\\`: imprime una barra\n",
        "* `\\n`: imprime un salto de linea\n",
        "* `\\\" or \\'`: imprime dentro de un string la comilla\n",
        "* `\\t`: tabulador\n",
        "* `\\r`: salto de carro"
      ],
      "metadata": {
        "id": "6WRAb4M9zRys"
      }
    },
    {
      "cell_type": "code",
      "source": [
        "# imprimir comillas dobles desde comillas dobles\n",
        "s1 = \"Carlos dijo: \\\"Yo quiero una soda de limón\\\"\"\n",
        "s1"
      ],
      "metadata": {
        "colab": {
          "base_uri": "https://localhost:8080/",
          "height": 35
        },
        "id": "R1Mt3wmcy0rp",
        "outputId": "463b0801-853b-4f40-e640-a20c8132301c"
      },
      "execution_count": null,
      "outputs": [
        {
          "output_type": "execute_result",
          "data": {
            "text/plain": [
              "'Carlos dijo: \"Yo quiero una soda de limón\"'"
            ],
            "application/vnd.google.colaboratory.intrinsic+json": {
              "type": "string"
            }
          },
          "metadata": {},
          "execution_count": 54
        }
      ]
    },
    {
      "cell_type": "code",
      "source": [
        "print(\"Hola mi nombres es: \\fMarcos Eduardo\")"
      ],
      "metadata": {
        "colab": {
          "base_uri": "https://localhost:8080/"
        },
        "id": "SErqX7bhzgVy",
        "outputId": "627d5fe2-960c-4235-f60b-74d857a78a3e"
      },
      "execution_count": null,
      "outputs": [
        {
          "output_type": "stream",
          "name": "stdout",
          "text": [
            "Hola mi nombres es: \fMarcos Eduardo\n"
          ]
        }
      ]
    },
    {
      "cell_type": "code",
      "source": [
        "s1 = 'Guido dijo: \"Es mejor bello que feo\"'\n",
        "s2 = \"Guido dijo: \\\"Es mejor bello que feo\\\"\"\n",
        "print(s1,\"\\n\",s2)"
      ],
      "metadata": {
        "colab": {
          "base_uri": "https://localhost:8080/"
        },
        "id": "bakIEvbW0Kd7",
        "outputId": "104b0b80-0e4e-40e8-b074-a12955d3df70"
      },
      "execution_count": null,
      "outputs": [
        {
          "output_type": "stream",
          "name": "stdout",
          "text": [
            "Guido dijo: \"Es mejor bello que feo\" \n",
            " Guido dijo: \"Es mejor bello que feo\"\n"
          ]
        }
      ]
    },
    {
      "cell_type": "markdown",
      "source": [
        "### Concatenando `strings`"
      ],
      "metadata": {
        "id": "EAetcOJa1xxK"
      }
    },
    {
      "cell_type": "code",
      "source": [
        "s1 = 'Hola mundo'\n",
        "s2 = 'Bienvenido seas Guido'"
      ],
      "metadata": {
        "id": "tvDg4pux1xAB"
      },
      "execution_count": null,
      "outputs": []
    },
    {
      "cell_type": "code",
      "source": [
        "print(s1 + s2)\n",
        "print(s1,s2)"
      ],
      "metadata": {
        "colab": {
          "base_uri": "https://localhost:8080/"
        },
        "id": "Dpt1ZFhv1nIh",
        "outputId": "167042ae-8940-4da1-eb0f-2d427c59a4d3"
      },
      "execution_count": null,
      "outputs": [
        {
          "output_type": "stream",
          "name": "stdout",
          "text": [
            "Hola mundoBienvenido seas Guido\n",
            "Hola mundo Bienvenido seas Guido\n"
          ]
        }
      ]
    },
    {
      "cell_type": "markdown",
      "source": [
        "con el simbolo de `+` lo que hace es agregarlo uno seguido de otro\n",
        "\n",
        "con el simbolo de `,` lo que hace es agregarlo uno espacio y otro"
      ],
      "metadata": {
        "id": "ZPTJvk7g2ERz"
      }
    },
    {
      "cell_type": "code",
      "source": [
        "s1 = 'Bienvenido seas     '\n",
        "s2 = 'a mi curso de python'\n",
        "s1 + s2 "
      ],
      "metadata": {
        "colab": {
          "base_uri": "https://localhost:8080/",
          "height": 35
        },
        "id": "5MSPbD7p19Q8",
        "outputId": "13a68813-570c-4ae6-ce05-c678198e31ae"
      },
      "execution_count": null,
      "outputs": [
        {
          "output_type": "execute_result",
          "data": {
            "text/plain": [
              "'Bienvenido seas     a mi curso de python'"
            ],
            "application/vnd.google.colaboratory.intrinsic+json": {
              "type": "string"
            }
          },
          "metadata": {},
          "execution_count": 69
        }
      ]
    },
    {
      "cell_type": "markdown",
      "source": [
        "El número de espacios declarados se va a respetar."
      ],
      "metadata": {
        "id": "d8GqA7NR3C1p"
      }
    },
    {
      "cell_type": "markdown",
      "source": [
        "### Repetición de `string`"
      ],
      "metadata": {
        "id": "bAM-QCjY3IQU"
      }
    },
    {
      "cell_type": "code",
      "source": [
        "s1 = \"hola \"\n",
        "s1 * 5"
      ],
      "metadata": {
        "colab": {
          "base_uri": "https://localhost:8080/",
          "height": 35
        },
        "id": "sTk5x0gH2_Ol",
        "outputId": "d8930d35-ff95-4fcf-9c6a-85ac00671237"
      },
      "execution_count": null,
      "outputs": [
        {
          "output_type": "execute_result",
          "data": {
            "text/plain": [
              "'hola hola hola hola hola '"
            ],
            "application/vnd.google.colaboratory.intrinsic+json": {
              "type": "string"
            }
          },
          "metadata": {},
          "execution_count": 72
        }
      ]
    },
    {
      "cell_type": "code",
      "source": [
        "print('hola\\n'*5)"
      ],
      "metadata": {
        "colab": {
          "base_uri": "https://localhost:8080/"
        },
        "id": "j67rLzO23Rwx",
        "outputId": "65dc1354-9357-4dee-a60d-4abb8c1b295b"
      },
      "execution_count": null,
      "outputs": [
        {
          "output_type": "stream",
          "name": "stdout",
          "text": [
            "hola\n",
            "hola\n",
            "hola\n",
            "hola\n",
            "hola\n",
            "\n"
          ]
        }
      ]
    },
    {
      "cell_type": "code",
      "source": [
        "print(\"Bart Simpson\\t\" * 5)\n",
        "print(\"Bart Simpson\\t\" * 5)\n",
        "print(\"Bart Simpson\\t\" * 5)"
      ],
      "metadata": {
        "colab": {
          "base_uri": "https://localhost:8080/"
        },
        "id": "iY0AHe2L3bic",
        "outputId": "20969d2f-1c93-42f7-be0c-93f2f42cc3e5"
      },
      "execution_count": null,
      "outputs": [
        {
          "output_type": "stream",
          "name": "stdout",
          "text": [
            "Bart Simpson\tBart Simpson\tBart Simpson\tBart Simpson\tBart Simpson\t\n",
            "Bart Simpson\tBart Simpson\tBart Simpson\tBart Simpson\tBart Simpson\t\n",
            "Bart Simpson\tBart Simpson\tBart Simpson\tBart Simpson\tBart Simpson\t\n"
          ]
        }
      ]
    },
    {
      "cell_type": "code",
      "source": [
        "s1 = '\\t¿Hemos llegado?' * 10\n",
        "print(s1)"
      ],
      "metadata": {
        "colab": {
          "base_uri": "https://localhost:8080/"
        },
        "id": "VA5ghruu3jkk",
        "outputId": "f2938329-ff8f-4c18-ae4c-c01a345431c9"
      },
      "execution_count": null,
      "outputs": [
        {
          "output_type": "stream",
          "name": "stdout",
          "text": [
            "\t¿Hemos llegado?\t¿Hemos llegado?\t¿Hemos llegado?\t¿Hemos llegado?\t¿Hemos llegado?\t¿Hemos llegado?\t¿Hemos llegado?\t¿Hemos llegado?\t¿Hemos llegado?\t¿Hemos llegado?\n"
          ]
        }
      ]
    },
    {
      "cell_type": "code",
      "source": [
        "s1 = 7 * ' ¡Ya llegamos!'\n",
        "s1"
      ],
      "metadata": {
        "colab": {
          "base_uri": "https://localhost:8080/",
          "height": 35
        },
        "id": "Gld0hPIj3svf",
        "outputId": "53117ed7-96b8-49fd-c75d-59f50a0ac7d4"
      },
      "execution_count": null,
      "outputs": [
        {
          "output_type": "execute_result",
          "data": {
            "text/plain": [
              "' ¡Ya llegamos! ¡Ya llegamos! ¡Ya llegamos! ¡Ya llegamos! ¡Ya llegamos! ¡Ya llegamos! ¡Ya llegamos!'"
            ],
            "application/vnd.google.colaboratory.intrinsic+json": {
              "type": "string"
            }
          },
          "metadata": {},
          "execution_count": 77
        }
      ]
    },
    {
      "cell_type": "code",
      "source": [
        "s1 = '¡Feliz Cumpleaños! ' * 5\n",
        "s1"
      ],
      "metadata": {
        "colab": {
          "base_uri": "https://localhost:8080/",
          "height": 35
        },
        "id": "Z6NSJwVo3zSX",
        "outputId": "c19f2225-ae71-41e4-e918-c2ea98077784"
      },
      "execution_count": null,
      "outputs": [
        {
          "output_type": "execute_result",
          "data": {
            "text/plain": [
              "'¡Feliz Cumpleaños! ¡Feliz Cumpleaños! ¡Feliz Cumpleaños! ¡Feliz Cumpleaños! ¡Feliz Cumpleaños! '"
            ],
            "application/vnd.google.colaboratory.intrinsic+json": {
              "type": "string"
            }
          },
          "metadata": {},
          "execution_count": 78
        }
      ]
    },
    {
      "cell_type": "markdown",
      "source": [
        "### Función `print()`"
      ],
      "metadata": {
        "id": "BQzfd8L54B9D"
      }
    },
    {
      "cell_type": "code",
      "source": [
        "print(\"Hola, soy un print\")"
      ],
      "metadata": {
        "colab": {
          "base_uri": "https://localhost:8080/"
        },
        "id": "1Kb5rosW3-Si",
        "outputId": "45e0212c-32ff-4bb9-f99f-ca2ac8f9dac4"
      },
      "execution_count": null,
      "outputs": [
        {
          "output_type": "stream",
          "name": "stdout",
          "text": [
            "Hola, soy un print\n"
          ]
        }
      ]
    },
    {
      "cell_type": "code",
      "source": [
        "s = 'Hello world, by Dennis Ritchie'\n",
        "s"
      ],
      "metadata": {
        "colab": {
          "base_uri": "https://localhost:8080/",
          "height": 35
        },
        "id": "3CIQQxWN4K2A",
        "outputId": "d3fe91db-d5af-46d8-a9f7-ce2efc3594de"
      },
      "execution_count": null,
      "outputs": [
        {
          "output_type": "execute_result",
          "data": {
            "text/plain": [
              "'Hello world, by Dennis Ritchie'"
            ],
            "application/vnd.google.colaboratory.intrinsic+json": {
              "type": "string"
            }
          },
          "metadata": {},
          "execution_count": 80
        }
      ]
    },
    {
      "cell_type": "code",
      "source": [
        "print(s.upper())"
      ],
      "metadata": {
        "colab": {
          "base_uri": "https://localhost:8080/"
        },
        "id": "mUDHl3x745Tx",
        "outputId": "aceaf480-33e5-42c9-e9c3-69275ab3d5a7"
      },
      "execution_count": null,
      "outputs": [
        {
          "output_type": "stream",
          "name": "stdout",
          "text": [
            "HELLO WORLD, BY DENNIS RITCHIE\n"
          ]
        }
      ]
    },
    {
      "cell_type": "code",
      "source": [
        "print(s.center(60,'=').title())"
      ],
      "metadata": {
        "colab": {
          "base_uri": "https://localhost:8080/"
        },
        "id": "DJGuP2we46ou",
        "outputId": "dc9fad00-fc64-41a8-8bb8-1e4a1ae2c440"
      },
      "execution_count": null,
      "outputs": [
        {
          "output_type": "stream",
          "name": "stdout",
          "text": [
            "===============Hello World, By Dennis Ritchie===============\n"
          ]
        }
      ]
    },
    {
      "cell_type": "code",
      "source": [
        "x = 'vivo en la Ciudad de México'\n",
        "x"
      ],
      "metadata": {
        "colab": {
          "base_uri": "https://localhost:8080/",
          "height": 35
        },
        "id": "ox-MUOD85Bey",
        "outputId": "4cf7cb45-b9da-400b-e64d-e8527d13301e"
      },
      "execution_count": null,
      "outputs": [
        {
          "output_type": "execute_result",
          "data": {
            "text/plain": [
              "'vivo en la Ciudad de México'"
            ],
            "application/vnd.google.colaboratory.intrinsic+json": {
              "type": "string"
            }
          },
          "metadata": {},
          "execution_count": 86
        }
      ]
    },
    {
      "cell_type": "code",
      "source": [
        "print(x)"
      ],
      "metadata": {
        "colab": {
          "base_uri": "https://localhost:8080/"
        },
        "id": "mraGIvnU5N_v",
        "outputId": "d6e1b6a3-1fa6-478c-c69f-2ad9bb8c5094"
      },
      "execution_count": null,
      "outputs": [
        {
          "output_type": "stream",
          "name": "stdout",
          "text": [
            "vivo en la Ciudad de México\n"
          ]
        }
      ]
    },
    {
      "cell_type": "code",
      "source": [
        "name = 'Don Hilario'\n",
        "print('¡Buenos días, '+name+'!')"
      ],
      "metadata": {
        "colab": {
          "base_uri": "https://localhost:8080/"
        },
        "id": "S-1Oz59V5QyW",
        "outputId": "b30ab7d9-2300-4275-d7e7-97417cb944e5"
      },
      "execution_count": null,
      "outputs": [
        {
          "output_type": "stream",
          "name": "stdout",
          "text": [
            "¡Buenos días, Don Hilario!\n"
          ]
        }
      ]
    },
    {
      "cell_type": "markdown",
      "source": [
        "#### Usando `coma [,]` en vez del simbolo de `suma +`"
      ],
      "metadata": {
        "id": "xLXkrkO85v9W"
      }
    },
    {
      "cell_type": "code",
      "source": [
        "name = 'Guido Van Rossum'\n",
        "print(\"¡Buenos días\",name,'!')"
      ],
      "metadata": {
        "colab": {
          "base_uri": "https://localhost:8080/"
        },
        "id": "N_Db3ToN5aVt",
        "outputId": "d9b5e234-db26-4394-bbe6-158e2de47036"
      },
      "execution_count": null,
      "outputs": [
        {
          "output_type": "stream",
          "name": "stdout",
          "text": [
            "¡Buenos días Guido Van Rossum !\n"
          ]
        }
      ]
    },
    {
      "cell_type": "markdown",
      "source": [
        "### Ejercicio Concatenación"
      ],
      "metadata": {
        "id": "05HrEgrY66Ng"
      }
    },
    {
      "cell_type": "code",
      "source": [
        "# Cumpleaños feliz, cumpleaños feliz, te deseamos todos, cumpleaños feliz\n",
        "s1 = '¡Cumpleaños feliz!'\n",
        "s2 = 'Te deseamos todos'\n",
        "\n",
        "print((s1 + '\\n' )* 2 + s2+ ',\\n' + s1 )"
      ],
      "metadata": {
        "colab": {
          "base_uri": "https://localhost:8080/"
        },
        "id": "qqt1OxmZ6VlL",
        "outputId": "0503c1d7-24f3-4d49-8ee7-0893be5b35e3"
      },
      "execution_count": null,
      "outputs": [
        {
          "output_type": "stream",
          "name": "stdout",
          "text": [
            "¡Cumpleaños feliz!\n",
            "¡Cumpleaños feliz!\n",
            "Te deseamos todos,\n",
            "¡Cumpleaños feliz!\n"
          ]
        }
      ]
    },
    {
      "cell_type": "markdown",
      "source": [
        "función `str()`"
      ],
      "metadata": {
        "id": "fJREihDI8c70"
      }
    },
    {
      "cell_type": "code",
      "source": [
        "name = 'María'\n",
        "edad = 22\n",
        "print('Mi hermana se llama ' + name + ' y tiene ' + str(edad) + ' años de edad')"
      ],
      "metadata": {
        "colab": {
          "base_uri": "https://localhost:8080/"
        },
        "id": "iGZNRZXr7XWv",
        "outputId": "1a44dc82-3502-4cbe-b057-32e4b58b5927"
      },
      "execution_count": null,
      "outputs": [
        {
          "output_type": "stream",
          "name": "stdout",
          "text": [
            "Mi hermana se llama María y tiene 22 años de edad\n"
          ]
        }
      ]
    },
    {
      "cell_type": "markdown",
      "source": [
        "método `.format()`"
      ],
      "metadata": {
        "id": "lJFY4g_o8q_z"
      }
    },
    {
      "cell_type": "code",
      "source": [
        "name = 'Rigoberto'\n",
        "edad = 33\n",
        "\n",
        "print('{} tiene la edad de cristo que es {}'.format(name,edad))"
      ],
      "metadata": {
        "colab": {
          "base_uri": "https://localhost:8080/"
        },
        "id": "7EA3ElSG8oeq",
        "outputId": "cbf0c6bf-e421-4b96-fd3f-0097533c0aac"
      },
      "execution_count": null,
      "outputs": [
        {
          "output_type": "stream",
          "name": "stdout",
          "text": [
            "Rigoberto tiene la edad de cristo que es 33\n"
          ]
        }
      ]
    },
    {
      "cell_type": "code",
      "source": [
        "s3 = 'Hoy Messi se consagro como el más grande\\nEsto lo llevará a ganar un mundial'\n",
        "print(s3)"
      ],
      "metadata": {
        "colab": {
          "base_uri": "https://localhost:8080/"
        },
        "id": "8U9qKWKz825y",
        "outputId": "11f394e7-20b2-4701-91c5-7ddf5ffb2187"
      },
      "execution_count": null,
      "outputs": [
        {
          "output_type": "stream",
          "name": "stdout",
          "text": [
            "Hoy Messi se consagro como el más grande\n",
            "Esto lo llevará a ganar un mundial\n"
          ]
        }
      ]
    },
    {
      "cell_type": "markdown",
      "source": [
        "### `Substrings`\n",
        "Los `substrings` son una extracción o una subposición de un string, en python los strings comienzan con 0 en sus indices.\n",
        "\n"
      ],
      "metadata": {
        "id": "r1ebeFHKCbaS"
      }
    },
    {
      "cell_type": "code",
      "source": [
        "s=\"soy un programador de python\"\n",
        "s[0]"
      ],
      "metadata": {
        "id": "t3nWARf89QUw",
        "colab": {
          "base_uri": "https://localhost:8080/",
          "height": 35
        },
        "outputId": "41c2070f-e61b-490e-cfc2-d0dc9bab744b"
      },
      "execution_count": null,
      "outputs": [
        {
          "output_type": "execute_result",
          "data": {
            "text/plain": [
              "'s'"
            ],
            "application/vnd.google.colaboratory.intrinsic+json": {
              "type": "string"
            }
          },
          "metadata": {},
          "execution_count": 2
        }
      ]
    },
    {
      "cell_type": "code",
      "source": [
        "s[1:3]"
      ],
      "metadata": {
        "colab": {
          "base_uri": "https://localhost:8080/",
          "height": 35
        },
        "id": "tN3brIYVjCw4",
        "outputId": "2602b05a-a1ec-4845-f2e6-574fcafc1690"
      },
      "execution_count": null,
      "outputs": [
        {
          "output_type": "execute_result",
          "data": {
            "text/plain": [
              "'oy'"
            ],
            "application/vnd.google.colaboratory.intrinsic+json": {
              "type": "string"
            }
          },
          "metadata": {},
          "execution_count": 10
        }
      ]
    },
    {
      "cell_type": "code",
      "source": [
        "s[-1]"
      ],
      "metadata": {
        "colab": {
          "base_uri": "https://localhost:8080/",
          "height": 35
        },
        "id": "V83yobi5jaPr",
        "outputId": "cd40f3d4-c7ba-498b-9345-08e65c43e583"
      },
      "execution_count": null,
      "outputs": [
        {
          "output_type": "execute_result",
          "data": {
            "text/plain": [
              "'n'"
            ],
            "application/vnd.google.colaboratory.intrinsic+json": {
              "type": "string"
            }
          },
          "metadata": {},
          "execution_count": 11
        }
      ]
    },
    {
      "cell_type": "markdown",
      "source": [
        "`[a:b]` es una sintaxis que nos ayuda a extraer información dentro de nuestros string"
      ],
      "metadata": {
        "id": "Y6vLYg_0j0Xp"
      }
    },
    {
      "cell_type": "code",
      "source": [
        "s[4:7]"
      ],
      "metadata": {
        "colab": {
          "base_uri": "https://localhost:8080/",
          "height": 35
        },
        "id": "wL5zkQJLjqqH",
        "outputId": "b487530e-db88-45f7-b7cb-f697c2d2545c"
      },
      "execution_count": null,
      "outputs": [
        {
          "output_type": "execute_result",
          "data": {
            "text/plain": [
              "'un '"
            ],
            "application/vnd.google.colaboratory.intrinsic+json": {
              "type": "string"
            }
          },
          "metadata": {},
          "execution_count": 3
        }
      ]
    },
    {
      "cell_type": "code",
      "source": [
        "s=\"Marcos Eduardo\"\n",
        "s[:6]"
      ],
      "metadata": {
        "colab": {
          "base_uri": "https://localhost:8080/",
          "height": 35
        },
        "id": "74zX2kDgj_wS",
        "outputId": "87c9f6bf-42fa-4ce1-9ac3-a9983c636efe"
      },
      "execution_count": null,
      "outputs": [
        {
          "output_type": "execute_result",
          "data": {
            "text/plain": [
              "'Marcos'"
            ],
            "application/vnd.google.colaboratory.intrinsic+json": {
              "type": "string"
            }
          },
          "metadata": {},
          "execution_count": 13
        }
      ]
    },
    {
      "cell_type": "code",
      "source": [
        "s[7:]"
      ],
      "metadata": {
        "colab": {
          "base_uri": "https://localhost:8080/",
          "height": 35
        },
        "id": "EX6olytakoZj",
        "outputId": "0acdbccf-3132-4521-81d4-50b3b5b4377e"
      },
      "execution_count": null,
      "outputs": [
        {
          "output_type": "execute_result",
          "data": {
            "text/plain": [
              "'Eduardo'"
            ],
            "application/vnd.google.colaboratory.intrinsic+json": {
              "type": "string"
            }
          },
          "metadata": {},
          "execution_count": 14
        }
      ]
    },
    {
      "cell_type": "code",
      "source": [
        "s[7:-1]"
      ],
      "metadata": {
        "colab": {
          "base_uri": "https://localhost:8080/",
          "height": 35
        },
        "id": "RJF1RmOVkqdv",
        "outputId": "1c64de0f-8054-40c2-8026-dc7244184cbb"
      },
      "execution_count": null,
      "outputs": [
        {
          "output_type": "execute_result",
          "data": {
            "text/plain": [
              "'Eduard'"
            ],
            "application/vnd.google.colaboratory.intrinsic+json": {
              "type": "string"
            }
          },
          "metadata": {},
          "execution_count": 17
        }
      ]
    },
    {
      "cell_type": "code",
      "source": [
        "equipo = \"Fc Barcelona\"\n",
        "equipo[-9:],equipo[3:]"
      ],
      "metadata": {
        "colab": {
          "base_uri": "https://localhost:8080/"
        },
        "id": "Wb8_LIbUktkJ",
        "outputId": "8259c6bb-bad0-4cac-824f-5e9330d76986"
      },
      "execution_count": null,
      "outputs": [
        {
          "output_type": "execute_result",
          "data": {
            "text/plain": [
              "('Barcelona', 'Barcelona')"
            ]
          },
          "metadata": {},
          "execution_count": 21
        }
      ]
    },
    {
      "cell_type": "code",
      "source": [
        "s=\"mi nombre es guido van rossum\"\n",
        "s[13:].upper()"
      ],
      "metadata": {
        "colab": {
          "base_uri": "https://localhost:8080/",
          "height": 35
        },
        "id": "EwY9kVqRk920",
        "outputId": "c69902a0-348d-4ce0-c54b-417965d3b1a3"
      },
      "execution_count": null,
      "outputs": [
        {
          "output_type": "execute_result",
          "data": {
            "text/plain": [
              "'GUIDO VAN ROSSUM'"
            ],
            "application/vnd.google.colaboratory.intrinsic+json": {
              "type": "string"
            }
          },
          "metadata": {},
          "execution_count": 26
        }
      ]
    },
    {
      "cell_type": "code",
      "source": [
        "s[13:].title()"
      ],
      "metadata": {
        "colab": {
          "base_uri": "https://localhost:8080/",
          "height": 35
        },
        "id": "vxwqiMKDlMzY",
        "outputId": "a35aee90-270b-4e85-81c4-6161862e8914"
      },
      "execution_count": null,
      "outputs": [
        {
          "output_type": "execute_result",
          "data": {
            "text/plain": [
              "'Guido Van Rossum'"
            ],
            "application/vnd.google.colaboratory.intrinsic+json": {
              "type": "string"
            }
          },
          "metadata": {},
          "execution_count": 27
        }
      ]
    },
    {
      "cell_type": "code",
      "source": [
        "s[13:].capitalize()"
      ],
      "metadata": {
        "colab": {
          "base_uri": "https://localhost:8080/",
          "height": 35
        },
        "id": "gXGBRqQzlWiy",
        "outputId": "e4cc5abb-df60-4e3c-9881-1b706826de48"
      },
      "execution_count": null,
      "outputs": [
        {
          "output_type": "execute_result",
          "data": {
            "text/plain": [
              "'Guido van rossum'"
            ],
            "application/vnd.google.colaboratory.intrinsic+json": {
              "type": "string"
            }
          },
          "metadata": {},
          "execution_count": 28
        }
      ]
    },
    {
      "cell_type": "markdown",
      "source": [
        "### Métodos para uso de strings \n",
        "* `.lower()`:todo se va a minusculas\n",
        "* `.upper()`: esté lo que hace es cambiar todo el string a mayusculas\n",
        "* `.count()`: realiza el conteo de alguna letra que le pasemos por parametro\n",
        "* `.capitalize()`: la primer letra de nuestro string la lleva a mayúscula\n",
        "* `.title()`: lleva la primer letra de cada palabra a mayúsculas\n",
        "* `.swapcase()`: Convierte las mayusculas en minusculas y viceversa\n",
        "* `.replace(a,b)`: cambia la palabra por otra\n",
        "* `.split()`: separa el string por el caracter que le idiquemos\n",
        "* `.strip()`: elimina los espacios sobrantes\n",
        "* `.find(\"a\")`: encuentra algún valor y nos devuelve la información de donde esta \n",
        "* `.index(\"z\")`: funciona igual que find, la diferencia yace en que find si no la encuentra devuelve -1 e index rompe la ejecución\n",
        "* `.rindex(\"a\")`: nos devuelve la ultima coincidencia dentro de nuestro string\n",
        "* ``:\n",
        "* ``:"
      ],
      "metadata": {
        "id": "E_dB_KH7leAI"
      }
    },
    {
      "cell_type": "code",
      "source": [
        "#usando lower\n",
        "s=\"MI NOMBRE ES MARCOS\"\n",
        "s = s.lower()\n",
        "s"
      ],
      "metadata": {
        "colab": {
          "base_uri": "https://localhost:8080/",
          "height": 35
        },
        "id": "xxN1WD-jlaMz",
        "outputId": "723f8b84-9e1d-4620-9c76-1162027cb85f"
      },
      "execution_count": null,
      "outputs": [
        {
          "output_type": "execute_result",
          "data": {
            "text/plain": [
              "'mi nombre es marcos'"
            ],
            "application/vnd.google.colaboratory.intrinsic+json": {
              "type": "string"
            }
          },
          "metadata": {},
          "execution_count": 31
        }
      ]
    },
    {
      "cell_type": "code",
      "source": [
        "s= s.upper()\n",
        "s"
      ],
      "metadata": {
        "colab": {
          "base_uri": "https://localhost:8080/",
          "height": 35
        },
        "id": "wWHf6sOKoJzK",
        "outputId": "be9de8bf-70bd-4838-ab13-1ef61b1f8c08"
      },
      "execution_count": null,
      "outputs": [
        {
          "output_type": "execute_result",
          "data": {
            "text/plain": [
              "'MI NOMBRE ES MARCOS'"
            ],
            "application/vnd.google.colaboratory.intrinsic+json": {
              "type": "string"
            }
          },
          "metadata": {},
          "execution_count": 32
        }
      ]
    },
    {
      "cell_type": "code",
      "source": [
        "s.count(\"nom\".upper())"
      ],
      "metadata": {
        "colab": {
          "base_uri": "https://localhost:8080/"
        },
        "id": "_DkyhSvGoTR_",
        "outputId": "ada751b6-5bac-46f4-9cf8-fec1208856f6"
      },
      "execution_count": null,
      "outputs": [
        {
          "output_type": "execute_result",
          "data": {
            "text/plain": [
              "1"
            ]
          },
          "metadata": {},
          "execution_count": 34
        }
      ]
    },
    {
      "cell_type": "code",
      "source": [
        "equipo = \"FC Barcelona\"\n",
        "equipo.capitalize()"
      ],
      "metadata": {
        "colab": {
          "base_uri": "https://localhost:8080/",
          "height": 35
        },
        "id": "dEEw033_oXAO",
        "outputId": "0286b9e8-5aef-444e-b177-dca1e72c0a27"
      },
      "execution_count": null,
      "outputs": [
        {
          "output_type": "execute_result",
          "data": {
            "text/plain": [
              "'Fc barcelona'"
            ],
            "application/vnd.google.colaboratory.intrinsic+json": {
              "type": "string"
            }
          },
          "metadata": {},
          "execution_count": 35
        }
      ]
    },
    {
      "cell_type": "code",
      "source": [
        "equipo.title()"
      ],
      "metadata": {
        "colab": {
          "base_uri": "https://localhost:8080/",
          "height": 35
        },
        "id": "DyqZU25kojug",
        "outputId": "8c684dec-76c4-44ac-ddd8-512eaf5c1889"
      },
      "execution_count": null,
      "outputs": [
        {
          "output_type": "execute_result",
          "data": {
            "text/plain": [
              "'Fc Barcelona'"
            ],
            "application/vnd.google.colaboratory.intrinsic+json": {
              "type": "string"
            }
          },
          "metadata": {},
          "execution_count": 36
        }
      ]
    },
    {
      "cell_type": "code",
      "source": [
        "nombre = \"mi nombre es MARCOS EDUARDO Fuerte Cruz\"\n",
        "nombre.swapcase()"
      ],
      "metadata": {
        "colab": {
          "base_uri": "https://localhost:8080/",
          "height": 35
        },
        "id": "Kp21XDNFomuW",
        "outputId": "535c5229-af21-4eb8-b776-e77d458aa485"
      },
      "execution_count": null,
      "outputs": [
        {
          "output_type": "execute_result",
          "data": {
            "text/plain": [
              "'MI NOMBRE ES marcos eduardo fUERTE cRUZ'"
            ],
            "application/vnd.google.colaboratory.intrinsic+json": {
              "type": "string"
            }
          },
          "metadata": {},
          "execution_count": 37
        }
      ]
    },
    {
      "cell_type": "code",
      "source": [
        "s = \"Entre vos y yo, existe algo magico\"\n",
        "s = s.replace(\"vos\",\"tu\")\n",
        "s"
      ],
      "metadata": {
        "colab": {
          "base_uri": "https://localhost:8080/",
          "height": 35
        },
        "id": "xvPI-AW0otJo",
        "outputId": "854adf95-bb5e-45a9-9884-52781fc67a8b"
      },
      "execution_count": null,
      "outputs": [
        {
          "output_type": "execute_result",
          "data": {
            "text/plain": [
              "'Entre tu y yo, existe algo magico'"
            ],
            "application/vnd.google.colaboratory.intrinsic+json": {
              "type": "string"
            }
          },
          "metadata": {},
          "execution_count": 39
        }
      ]
    },
    {
      "cell_type": "code",
      "source": [
        "user = \"1|FUCM940227|Marcos Eduardo Fuerte Cruz|Ingeniero en computación|\"\n",
        "lista = user.split(\"|\")\n",
        "lista"
      ],
      "metadata": {
        "colab": {
          "base_uri": "https://localhost:8080/"
        },
        "id": "knHVcv9Eo3Uo",
        "outputId": "79486589-055a-49fa-c67c-ca5153d9b37e"
      },
      "execution_count": null,
      "outputs": [
        {
          "output_type": "execute_result",
          "data": {
            "text/plain": [
              "['1',\n",
              " 'FUCM940227',\n",
              " 'Marcos Eduardo Fuerte Cruz',\n",
              " 'Ingeniero en computación',\n",
              " '']"
            ]
          },
          "metadata": {},
          "execution_count": 42
        }
      ]
    },
    {
      "cell_type": "code",
      "source": [
        "espacios = \"                 Hola mi tio como estas         \"\n",
        "espacios.strip()"
      ],
      "metadata": {
        "colab": {
          "base_uri": "https://localhost:8080/",
          "height": 35
        },
        "id": "iqgvFxk4pOB4",
        "outputId": "661a8840-23ae-49d6-c88d-9c1a2690be40"
      },
      "execution_count": null,
      "outputs": [
        {
          "output_type": "execute_result",
          "data": {
            "text/plain": [
              "'Hola mi tio como estas'"
            ],
            "application/vnd.google.colaboratory.intrinsic+json": {
              "type": "string"
            }
          },
          "metadata": {},
          "execution_count": 45
        }
      ]
    },
    {
      "cell_type": "code",
      "source": [
        "espacios.rstrip()"
      ],
      "metadata": {
        "colab": {
          "base_uri": "https://localhost:8080/",
          "height": 35
        },
        "id": "A1qp2o0BpUhy",
        "outputId": "9854d8a4-9c2a-40b9-f95b-cba5a9d5dd13"
      },
      "execution_count": null,
      "outputs": [
        {
          "output_type": "execute_result",
          "data": {
            "text/plain": [
              "'                 Hola mi tio como estas'"
            ],
            "application/vnd.google.colaboratory.intrinsic+json": {
              "type": "string"
            }
          },
          "metadata": {},
          "execution_count": 46
        }
      ]
    },
    {
      "cell_type": "code",
      "source": [
        "espacios.lstrip()"
      ],
      "metadata": {
        "colab": {
          "base_uri": "https://localhost:8080/",
          "height": 35
        },
        "id": "pPo2QrWPp6Wg",
        "outputId": "777b2919-38ba-4a64-e16b-545d193be3df"
      },
      "execution_count": null,
      "outputs": [
        {
          "output_type": "execute_result",
          "data": {
            "text/plain": [
              "'Hola mi tio como estas         '"
            ],
            "application/vnd.google.colaboratory.intrinsic+json": {
              "type": "string"
            }
          },
          "metadata": {},
          "execution_count": 47
        }
      ]
    },
    {
      "cell_type": "code",
      "source": [
        "s = \"Hola soy un programador en python y estoy tratando de mejorar mucho\"\n",
        "s.find(\"tratandso\")"
      ],
      "metadata": {
        "colab": {
          "base_uri": "https://localhost:8080/"
        },
        "id": "FsRsmxKMqSSm",
        "outputId": "ad7abb91-0a88-4b20-cbd2-d496862d4bd2"
      },
      "execution_count": null,
      "outputs": [
        {
          "output_type": "execute_result",
          "data": {
            "text/plain": [
              "-1"
            ]
          },
          "metadata": {},
          "execution_count": 49
        }
      ]
    },
    {
      "cell_type": "code",
      "source": [
        "s = \"Hola soy un programador en python y estoy tratando de mejorar mucho\"\n",
        "s.index(\"tratandso\")"
      ],
      "metadata": {
        "colab": {
          "base_uri": "https://localhost:8080/",
          "height": 184
        },
        "id": "XgI02Jkpq3kk",
        "outputId": "685badab-4b12-456a-c439-fca6a3d7d010"
      },
      "execution_count": null,
      "outputs": [
        {
          "output_type": "error",
          "ename": "ValueError",
          "evalue": "ignored",
          "traceback": [
            "\u001b[0;31m---------------------------------------------------------------------------\u001b[0m",
            "\u001b[0;31mValueError\u001b[0m                                Traceback (most recent call last)",
            "\u001b[0;32m<ipython-input-4-d38535b29ddb>\u001b[0m in \u001b[0;36m<module>\u001b[0;34m\u001b[0m\n\u001b[1;32m      1\u001b[0m \u001b[0ms\u001b[0m \u001b[0;34m=\u001b[0m \u001b[0;34m\"Hola soy un programador en python y estoy tratando de mejorar mucho\"\u001b[0m\u001b[0;34m\u001b[0m\u001b[0;34m\u001b[0m\u001b[0m\n\u001b[0;32m----> 2\u001b[0;31m \u001b[0ms\u001b[0m\u001b[0;34m.\u001b[0m\u001b[0mindex\u001b[0m\u001b[0;34m(\u001b[0m\u001b[0;34m\"tratandso\"\u001b[0m\u001b[0;34m)\u001b[0m\u001b[0;34m\u001b[0m\u001b[0;34m\u001b[0m\u001b[0m\n\u001b[0m",
            "\u001b[0;31mValueError\u001b[0m: substring not found"
          ]
        }
      ]
    },
    {
      "cell_type": "markdown",
      "source": [
        "en find e index podemos indicar inicio y fin"
      ],
      "metadata": {
        "id": "qsg8hkmMrRXZ"
      }
    },
    {
      "cell_type": "code",
      "source": [
        "s"
      ],
      "metadata": {
        "colab": {
          "base_uri": "https://localhost:8080/",
          "height": 35
        },
        "id": "MBbSHxi4rNlh",
        "outputId": "94296355-5f94-4de0-a5ff-95a482cc80b3"
      },
      "execution_count": null,
      "outputs": [
        {
          "output_type": "execute_result",
          "data": {
            "text/plain": [
              "'Hola soy un programador en python y estoy tratando de mejorar mucho'"
            ],
            "application/vnd.google.colaboratory.intrinsic+json": {
              "type": "string"
            }
          },
          "metadata": {},
          "execution_count": 54
        }
      ]
    },
    {
      "cell_type": "code",
      "source": [
        "s.find(\"programador\",20)"
      ],
      "metadata": {
        "colab": {
          "base_uri": "https://localhost:8080/"
        },
        "id": "TbViwmoJrYHT",
        "outputId": "861250df-a477-4845-c19b-c76927450ba8"
      },
      "execution_count": null,
      "outputs": [
        {
          "output_type": "execute_result",
          "data": {
            "text/plain": [
              "-1"
            ]
          },
          "metadata": {},
          "execution_count": 56
        }
      ]
    },
    {
      "cell_type": "code",
      "source": [
        "s.index(\"programador\",9)"
      ],
      "metadata": {
        "id": "STSFZfutrbhq",
        "colab": {
          "base_uri": "https://localhost:8080/"
        },
        "outputId": "6e294b81-fead-4b7d-fcf6-95a243833b4e"
      },
      "execution_count": null,
      "outputs": [
        {
          "output_type": "execute_result",
          "data": {
            "text/plain": [
              "12"
            ]
          },
          "metadata": {},
          "execution_count": 6
        }
      ]
    },
    {
      "cell_type": "code",
      "source": [
        "s.index(\"pro\",4)"
      ],
      "metadata": {
        "colab": {
          "base_uri": "https://localhost:8080/"
        },
        "id": "uTZVcjM1rrku",
        "outputId": "3615ed4d-44e6-437e-e5f1-fcf275e3dbe8"
      },
      "execution_count": null,
      "outputs": [
        {
          "output_type": "execute_result",
          "data": {
            "text/plain": [
              "12"
            ]
          },
          "metadata": {},
          "execution_count": 58
        }
      ]
    },
    {
      "cell_type": "code",
      "source": [
        "s = \"python es el mejor lenguaje del mundo, python es fácil y rapido, te amo python\"\n",
        "s.rindex(\"python\")"
      ],
      "metadata": {
        "colab": {
          "base_uri": "https://localhost:8080/"
        },
        "id": "7tL5uzBRruAQ",
        "outputId": "3efc9c63-b24b-4625-aff2-8918e1430272"
      },
      "execution_count": null,
      "outputs": [
        {
          "output_type": "execute_result",
          "data": {
            "text/plain": [
              "72"
            ]
          },
          "metadata": {},
          "execution_count": 7
        }
      ]
    },
    {
      "cell_type": "code",
      "source": [
        "s[72:]"
      ],
      "metadata": {
        "colab": {
          "base_uri": "https://localhost:8080/",
          "height": 35
        },
        "id": "bdgB4Kb_tI0g",
        "outputId": "821f7817-18e2-40f7-df54-f0c7b79dd4a9"
      },
      "execution_count": null,
      "outputs": [
        {
          "output_type": "execute_result",
          "data": {
            "text/plain": [
              "'python'"
            ],
            "application/vnd.google.colaboratory.intrinsic+json": {
              "type": "string"
            }
          },
          "metadata": {},
          "execution_count": 8
        }
      ]
    },
    {
      "cell_type": "code",
      "source": [
        "nombre = \"Marcos Eduardo\"\n",
        "len(nombre)"
      ],
      "metadata": {
        "colab": {
          "base_uri": "https://localhost:8080/"
        },
        "id": "xp1amMAuuIhE",
        "outputId": "dadc9528-1562-423e-b09f-8f1109f5a835"
      },
      "execution_count": null,
      "outputs": [
        {
          "output_type": "execute_result",
          "data": {
            "text/plain": [
              "14"
            ]
          },
          "metadata": {},
          "execution_count": 62
        }
      ]
    },
    {
      "cell_type": "code",
      "source": [
        "numero = \"2\"\n",
        "type(numero)"
      ],
      "metadata": {
        "colab": {
          "base_uri": "https://localhost:8080/"
        },
        "id": "TFTK1TqxuOZ4",
        "outputId": "4b5a4db1-d127-4687-9cd5-df291c5d4a17"
      },
      "execution_count": null,
      "outputs": [
        {
          "output_type": "execute_result",
          "data": {
            "text/plain": [
              "str"
            ]
          },
          "metadata": {},
          "execution_count": 72
        }
      ]
    },
    {
      "cell_type": "code",
      "source": [
        "numero = int(numero)\n",
        "type(numero)"
      ],
      "metadata": {
        "colab": {
          "base_uri": "https://localhost:8080/"
        },
        "id": "407c3y_NukHp",
        "outputId": "eb68c645-455b-4ef2-ea04-7dc634a591e4"
      },
      "execution_count": null,
      "outputs": [
        {
          "output_type": "execute_result",
          "data": {
            "text/plain": [
              "int"
            ]
          },
          "metadata": {},
          "execution_count": 73
        }
      ]
    },
    {
      "cell_type": "code",
      "source": [
        "numero ** 2"
      ],
      "metadata": {
        "colab": {
          "base_uri": "https://localhost:8080/"
        },
        "id": "J-gPgwg8veCz",
        "outputId": "52c02ed7-0aed-40dc-def7-d9625d49c49e"
      },
      "execution_count": null,
      "outputs": [
        {
          "output_type": "execute_result",
          "data": {
            "text/plain": [
              "4"
            ]
          },
          "metadata": {},
          "execution_count": 74
        }
      ]
    },
    {
      "cell_type": "code",
      "source": [
        "print(\"Introduce tu nombre: \")\n",
        "name = input()"
      ],
      "metadata": {
        "colab": {
          "base_uri": "https://localhost:8080/"
        },
        "id": "XwGp-DZhvfwD",
        "outputId": "e65aad4c-e8fb-47c9-8ead-b88c87b9b09d"
      },
      "execution_count": null,
      "outputs": [
        {
          "name": "stdout",
          "output_type": "stream",
          "text": [
            "Introduce tu nombre: \n",
            "Marcos\n"
          ]
        }
      ]
    },
    {
      "cell_type": "code",
      "source": [
        "f'tu nombre es {name}'"
      ],
      "metadata": {
        "colab": {
          "base_uri": "https://localhost:8080/",
          "height": 35
        },
        "id": "EAo1q5X3wCRM",
        "outputId": "58b7b828-e43d-41b3-e9c2-2939239b820f"
      },
      "execution_count": null,
      "outputs": [
        {
          "output_type": "execute_result",
          "data": {
            "text/plain": [
              "'tu nombre es Marcos'"
            ],
            "application/vnd.google.colaboratory.intrinsic+json": {
              "type": "string"
            }
          },
          "metadata": {},
          "execution_count": 77
        }
      ]
    },
    {
      "cell_type": "code",
      "source": [
        "age = int(input(\"Danos tu edad: \"))\n",
        "height = float(input(\"Danos tu estatura: \"))\n",
        "print(f'Hola, tu edad es: {age} y mides {height} cm')"
      ],
      "metadata": {
        "colab": {
          "base_uri": "https://localhost:8080/"
        },
        "id": "nItSHlv3wDRy",
        "outputId": "53e56a47-8fbd-4fd0-b4e7-75151cadf29b"
      },
      "execution_count": null,
      "outputs": [
        {
          "output_type": "stream",
          "name": "stdout",
          "text": [
            "Danos tu edad: 28\n",
            "Danos tu estatura: 180\n",
            "Hola, tu edad es: 28 y mides 180.0 cm\n"
          ]
        }
      ]
    },
    {
      "cell_type": "code",
      "source": [
        "s = \",\"\n",
        "print(f'el {s} es un valor de ascii: ', \"verdadero\" if s.isascii() == True else \"Falso\")"
      ],
      "metadata": {
        "colab": {
          "base_uri": "https://localhost:8080/"
        },
        "id": "XfupWeSiwg-I",
        "outputId": "3b58912a-8242-4537-e9e5-2d8f099e2c89"
      },
      "execution_count": null,
      "outputs": [
        {
          "output_type": "stream",
          "name": "stdout",
          "text": [
            "el , es un valor de ascii:  verdadero\n"
          ]
        }
      ]
    },
    {
      "cell_type": "markdown",
      "source": [
        "### Ejercicio substring\n",
        "Dado un string, vamos a pedir al usuario que introduzca una palabra perteneciente a dicho string y vamos a obtener el substring sin la palabra indicada por el usuario utilizando el metodo `.find()` y la función `len()`"
      ],
      "metadata": {
        "id": "qulq-aClyOSg"
      }
    },
    {
      "cell_type": "code",
      "source": [
        "string = \"Mi nombre es Marcos Eduardo, y soy ingeniero en computación y no arreglo computadoras\"\n",
        "print(f\"Este es tu string original: {string}\")\n",
        "palabra = str(input(\"introduce la palabra que quieras eliminar del string original\\n\\tPalabra: \"))\n",
        "string.find(palabra), len(palabra)\n",
        "idx = string.find(palabra)\n",
        "substring = string[:idx] + string[(idx + len(palabra)) + 1:]\n",
        "substring\n"
      ],
      "metadata": {
        "colab": {
          "base_uri": "https://localhost:8080/",
          "height": 87
        },
        "id": "oGO6Pzj4wu6y",
        "outputId": "68615969-dd0f-4dc0-ddde-c08f2f83c5ed"
      },
      "execution_count": null,
      "outputs": [
        {
          "name": "stdout",
          "output_type": "stream",
          "text": [
            "Este es tu string original: Mi nombre es Marcos Eduardo, y soy ingeniero en computación y no arreglo computadoras\n",
            "introduce la palabra que quieras eliminar del string original\n",
            "\tPalabra: Marcos Eduardo\n"
          ]
        },
        {
          "output_type": "execute_result",
          "data": {
            "text/plain": [
              "'Mi nombre es  y soy ingeniero en computación y no arreglo computadoras'"
            ],
            "application/vnd.google.colaboratory.intrinsic+json": {
              "type": "string"
            }
          },
          "metadata": {},
          "execution_count": 131
        }
      ]
    },
    {
      "cell_type": "markdown",
      "source": [
        "### Ejercicio 2 substring\n",
        "Del ejercicio cumpleaños feliz, vamos a permitir que el usuario elija a quien va dirigida la canción"
      ],
      "metadata": {
        "id": "ikWk_ODdfGHJ"
      }
    },
    {
      "cell_type": "code",
      "source": [
        "s1 = \"¡Cumpleaños feliz!\"\n",
        "s2 = \"Te deseamos todos\"\n",
        "name = input(\"A quien va la canción: \")\n",
        "song = (s1 + '\\n') * 2 + s2.replace(\"todos\",name + \",\\n\" + s1)\n",
        "print(song)"
      ],
      "metadata": {
        "colab": {
          "base_uri": "https://localhost:8080/"
        },
        "id": "6qYcL6NpfQ67",
        "outputId": "55db370b-1709-4ae3-b12f-802c24d0a0c2"
      },
      "execution_count": null,
      "outputs": [
        {
          "output_type": "stream",
          "name": "stdout",
          "text": [
            "A quien va la canción: María\n",
            "¡Cumpleaños feliz!\n",
            "¡Cumpleaños feliz!\n",
            "Te deseamos María,\n",
            "¡Cumpleaños feliz!\n"
          ]
        }
      ]
    },
    {
      "cell_type": "code",
      "source": [
        "s1 = \"¡Cumpleaños feliz!\"\n",
        "s2 = \"Te deseamos\"\n",
        "name = input(\"A quien va la canción: \")\n",
        "song = (s1 + '\\n') * 2 + (s2 +\" \" + name.capitalize()) + '\\n' + s1\n",
        "print(song)"
      ],
      "metadata": {
        "colab": {
          "base_uri": "https://localhost:8080/"
        },
        "id": "Xnu7_HACf2YW",
        "outputId": "05038f9c-55db-4d35-e2cc-1863f2ffa402"
      },
      "execution_count": null,
      "outputs": [
        {
          "output_type": "stream",
          "name": "stdout",
          "text": [
            "A quien va la canción: TINAJAS\n",
            "¡Cumpleaños feliz!\n",
            "¡Cumpleaños feliz!\n",
            "Te deseamos Tinajas\n",
            "¡Cumpleaños feliz!\n"
          ]
        }
      ]
    },
    {
      "cell_type": "markdown",
      "source": [
        "### Ejercicio\n",
        "1. Devolver la palabra en mayúscula\n",
        "1. Devolver la frase con todas las palabras empezando en mayuscula\n",
        "1. Devolver la palabra (con 3 o más letras) con tolas las letras en minúsculas salvo la tercera letra\n",
        "1. Devolver la palabra con todas las letras en mayúsculas salvo la primera y la última\n",
        "1. Devolver la frase donde cada vez que aparezcan las dos primeras letras de la priemra palabra, sean substituidas por culaquiera otras dos letras."
      ],
      "metadata": {
        "id": "QLXApAjBg4dw"
      }
    },
    {
      "cell_type": "code",
      "source": [
        "# 1\n",
        "s = input('Danos una palabra:')\n",
        "s.upper()"
      ],
      "metadata": {
        "colab": {
          "base_uri": "https://localhost:8080/",
          "height": 53
        },
        "id": "e1oK9IHygWFZ",
        "outputId": "33bcbc5d-f8ae-4a4f-9183-1a0a1428e6fd"
      },
      "execution_count": null,
      "outputs": [
        {
          "name": "stdout",
          "output_type": "stream",
          "text": [
            "Danos una palabra:marcos eduardo\n"
          ]
        },
        {
          "output_type": "execute_result",
          "data": {
            "text/plain": [
              "'MARCOS EDUARDO'"
            ],
            "application/vnd.google.colaboratory.intrinsic+json": {
              "type": "string"
            }
          },
          "metadata": {},
          "execution_count": 11
        }
      ]
    },
    {
      "cell_type": "code",
      "source": [
        "s = input('Danos una frase:')\n",
        "s.title()\n"
      ],
      "metadata": {
        "colab": {
          "base_uri": "https://localhost:8080/",
          "height": 53
        },
        "id": "JBPA81qBhnE-",
        "outputId": "48cee8ab-de68-453c-ac18-e014377c36f1"
      },
      "execution_count": null,
      "outputs": [
        {
          "name": "stdout",
          "output_type": "stream",
          "text": [
            "Danos una frase:anita lava la tina, mi mamá me mima esa es mi mamá\n"
          ]
        },
        {
          "output_type": "execute_result",
          "data": {
            "text/plain": [
              "'Anita Lava La Tina, Mi Mamá Me Mima Esa Es Mi Mamá'"
            ],
            "application/vnd.google.colaboratory.intrinsic+json": {
              "type": "string"
            }
          },
          "metadata": {},
          "execution_count": 12
        }
      ]
    },
    {
      "cell_type": "code",
      "source": [
        "s = input('Danos una palabra: ')\n",
        "s = s[:2].lower() + s[2].upper() + s[3:].lower()\n",
        "s"
      ],
      "metadata": {
        "colab": {
          "base_uri": "https://localhost:8080/",
          "height": 53
        },
        "id": "jp85HnoJhs_U",
        "outputId": "4b0fb6f4-c560-492f-aaea-91b85462a6e6"
      },
      "execution_count": null,
      "outputs": [
        {
          "name": "stdout",
          "output_type": "stream",
          "text": [
            "Danos una palabra: Nuestro perro es pequeño\n"
          ]
        },
        {
          "output_type": "execute_result",
          "data": {
            "text/plain": [
              "'nuEstro perro es pequeño'"
            ],
            "application/vnd.google.colaboratory.intrinsic+json": {
              "type": "string"
            }
          },
          "metadata": {},
          "execution_count": 30
        }
      ]
    },
    {
      "cell_type": "code",
      "source": [
        "s = input(\"Danos una palabra: \")\n",
        "s_inicio = s[0].lower()\n",
        "s_final = s[-1].lower()\n",
        "s = s_inicio + s[1:-1].upper() + s_final\n",
        "print(f'Tu frase es : {s}')"
      ],
      "metadata": {
        "colab": {
          "base_uri": "https://localhost:8080/"
        },
        "id": "EjIVbPmVidOC",
        "outputId": "cd2125cf-b30a-4b91-b237-0a4173e85431"
      },
      "execution_count": null,
      "outputs": [
        {
          "output_type": "stream",
          "name": "stdout",
          "text": [
            "Danos una palabra: leticia\n",
            "Tu frase es : lETICIa\n"
          ]
        }
      ]
    },
    {
      "cell_type": "code",
      "source": [
        "s = input(\"Danos una frase\")\n",
        "letra1 = s[0]\n",
        "letra2 = s[1]\n",
        "s1 = s.replace(letra1,\"$\")\n",
        "s1 = s1.replace(letra2,\"%\")\n",
        "print(f\"Frase original: {s}\\nNueva frase: {s1}\")\n"
      ],
      "metadata": {
        "colab": {
          "base_uri": "https://localhost:8080/"
        },
        "id": "moQITnrojZ3U",
        "outputId": "f3b3a17b-08e7-48bc-eec7-45c6a7b14677"
      },
      "execution_count": null,
      "outputs": [
        {
          "output_type": "stream",
          "name": "stdout",
          "text": [
            "Danos una fraseLeticia\n",
            "Frase original: Leticia\n",
            "Nueva frase: $%ticia\n"
          ]
        }
      ]
    },
    {
      "cell_type": "markdown",
      "source": [
        "### Ejercicio\n",
        "Pedir al usuario su año de nacimiento y el año actual y le vamos a imprimir su edad"
      ],
      "metadata": {
        "id": "szIWyqzZnlRz"
      }
    },
    {
      "cell_type": "code",
      "source": [
        "nacimiento = int(input('Danos tu año de nacimiento: '))\n",
        "anio_actual = int(input('Danos el año actual: '))\n",
        "\n",
        "if nacimiento > anio_actual:\n",
        "    print(\"No se pueden hacer calculos negativos\")\n",
        "else:\n",
        "    edad = anio_actual - nacimiento\n",
        "    print(f'Hola nos hemos enterado que tienes {edad} años de edad')"
      ],
      "metadata": {
        "colab": {
          "base_uri": "https://localhost:8080/"
        },
        "id": "pLbtJqM-jq5z",
        "outputId": "48c273e3-e1ea-4680-8de7-118d9ea12c75"
      },
      "execution_count": null,
      "outputs": [
        {
          "output_type": "stream",
          "name": "stdout",
          "text": [
            "Danos tu año de nacimiento: 1994\n",
            "Danos el año actual: 2022\n",
            "Hola nos hemos enterado que tienes 28 años de edad\n"
          ]
        }
      ]
    },
    {
      "cell_type": "markdown",
      "source": [
        "## Condicionales\n"
      ],
      "metadata": {
        "id": "wRT_1eB6jsyd"
      }
    },
    {
      "cell_type": "code",
      "source": [
        "x = 1\n",
        "y = -1\n",
        "y < x"
      ],
      "metadata": {
        "colab": {
          "base_uri": "https://localhost:8080/"
        },
        "id": "8ZFq0igNn9Nv",
        "outputId": "2a86215e-0893-4a88-92b6-78c2262b7851"
      },
      "execution_count": null,
      "outputs": [
        {
          "output_type": "execute_result",
          "data": {
            "text/plain": [
              "True"
            ]
          },
          "metadata": {},
          "execution_count": 1
        }
      ]
    },
    {
      "cell_type": "code",
      "source": [
        "x < y"
      ],
      "metadata": {
        "colab": {
          "base_uri": "https://localhost:8080/"
        },
        "id": "lgHjeZkVkdyS",
        "outputId": "8b6037e0-796c-4bd5-ff5e-507649191ffd"
      },
      "execution_count": null,
      "outputs": [
        {
          "output_type": "execute_result",
          "data": {
            "text/plain": [
              "False"
            ]
          },
          "metadata": {},
          "execution_count": 2
        }
      ]
    },
    {
      "cell_type": "code",
      "source": [
        "adulto = True\n",
        "edad = int(input(\"Danos tú edad: \"))\n",
        "\n",
        "if edad >= 18:\n",
        "    print(\"Es adulto: \",adulto)\n",
        "else:\n",
        "    adulto = False\n",
        "    print(\"Es adulto: \",adulto)\n"
      ],
      "metadata": {
        "colab": {
          "base_uri": "https://localhost:8080/"
        },
        "id": "GRI6Yj4Eke9r",
        "outputId": "44252f75-5896-4296-973a-65a8d7648261"
      },
      "execution_count": null,
      "outputs": [
        {
          "output_type": "stream",
          "name": "stdout",
          "text": [
            "Danos tú edad: 12\n",
            "Es adulto:  False\n"
          ]
        }
      ]
    },
    {
      "cell_type": "code",
      "source": [
        "a = True\n",
        "(f\"a es verdadera: {not a}\")\n"
      ],
      "metadata": {
        "colab": {
          "base_uri": "https://localhost:8080/",
          "height": 35
        },
        "id": "Bd10FNh5kynZ",
        "outputId": "dca04c64-86bb-46f6-a1a5-63128f0258bd"
      },
      "execution_count": null,
      "outputs": [
        {
          "output_type": "execute_result",
          "data": {
            "text/plain": [
              "'a es verdadera: False'"
            ],
            "application/vnd.google.colaboratory.intrinsic+json": {
              "type": "string"
            }
          },
          "metadata": {},
          "execution_count": 8
        }
      ]
    },
    {
      "cell_type": "code",
      "source": [
        "a = int(input('1. True\\n2.False\\n\\tOpción. '))\n",
        "decision = None\n",
        "if a == 1:\n",
        "    decision = True   \n",
        "else:\n",
        "    decision = False\n",
        "\n",
        "print(\"Tu escogiste:\",decision)"
      ],
      "metadata": {
        "colab": {
          "base_uri": "https://localhost:8080/"
        },
        "id": "LwWqZSDdnOyp",
        "outputId": "33fb339d-26f1-44b3-dd66-ff3471c2d337"
      },
      "execution_count": null,
      "outputs": [
        {
          "output_type": "stream",
          "name": "stdout",
          "text": [
            "1. True\n",
            "2.False\n",
            "\tOpción. 1\n",
            "Tu escogiste: True\n"
          ]
        }
      ]
    },
    {
      "cell_type": "code",
      "source": [
        "a = True\n",
        "not a"
      ],
      "metadata": {
        "colab": {
          "base_uri": "https://localhost:8080/"
        },
        "id": "kDa_QaVHoH2G",
        "outputId": "1496f71b-7db6-4c6c-d6a3-57a1cf08fb6a"
      },
      "execution_count": null,
      "outputs": [
        {
          "output_type": "execute_result",
          "data": {
            "text/plain": [
              "False"
            ]
          },
          "metadata": {},
          "execution_count": 17
        }
      ]
    },
    {
      "cell_type": "code",
      "source": [
        "b = False\n",
        "not b"
      ],
      "metadata": {
        "colab": {
          "base_uri": "https://localhost:8080/"
        },
        "id": "7ORb83rxsP_K",
        "outputId": "6d632107-65f1-4dee-fa1c-cac78b4d3cea"
      },
      "execution_count": null,
      "outputs": [
        {
          "output_type": "execute_result",
          "data": {
            "text/plain": [
              "True"
            ]
          },
          "metadata": {},
          "execution_count": 18
        }
      ]
    },
    {
      "cell_type": "code",
      "source": [
        "a,b = True, False\n",
        "a and b"
      ],
      "metadata": {
        "colab": {
          "base_uri": "https://localhost:8080/"
        },
        "id": "J2aQd2wLsR3n",
        "outputId": "f471914a-4c3e-4391-a561-e62f3a719dc0"
      },
      "execution_count": null,
      "outputs": [
        {
          "output_type": "execute_result",
          "data": {
            "text/plain": [
              "False"
            ]
          },
          "metadata": {},
          "execution_count": 19
        }
      ]
    },
    {
      "cell_type": "code",
      "source": [
        "a or b"
      ],
      "metadata": {
        "colab": {
          "base_uri": "https://localhost:8080/"
        },
        "id": "BSOv05ppsVQH",
        "outputId": "e3349dff-add2-45fc-963c-59e0ce46384a"
      },
      "execution_count": null,
      "outputs": [
        {
          "output_type": "execute_result",
          "data": {
            "text/plain": [
              "True"
            ]
          },
          "metadata": {},
          "execution_count": 20
        }
      ]
    },
    {
      "cell_type": "code",
      "source": [
        "a and (not b)"
      ],
      "metadata": {
        "colab": {
          "base_uri": "https://localhost:8080/"
        },
        "id": "taQ0DpJ9sWTV",
        "outputId": "f7710989-3ba8-4ed6-fa68-5e165ebf88e6"
      },
      "execution_count": null,
      "outputs": [
        {
          "output_type": "execute_result",
          "data": {
            "text/plain": [
              "True"
            ]
          },
          "metadata": {},
          "execution_count": 21
        }
      ]
    },
    {
      "cell_type": "code",
      "source": [
        "a or (not b)"
      ],
      "metadata": {
        "colab": {
          "base_uri": "https://localhost:8080/"
        },
        "id": "71Hr86GHsbEb",
        "outputId": "370f224e-7f28-4151-e02b-69f14aef4391"
      },
      "execution_count": null,
      "outputs": [
        {
          "output_type": "execute_result",
          "data": {
            "text/plain": [
              "True"
            ]
          },
          "metadata": {},
          "execution_count": 22
        }
      ]
    },
    {
      "cell_type": "code",
      "source": [
        "b or (not a)"
      ],
      "metadata": {
        "colab": {
          "base_uri": "https://localhost:8080/"
        },
        "id": "nxAE53nEsexV",
        "outputId": "38babc61-dab5-457d-a4a9-f2f21980f0db"
      },
      "execution_count": null,
      "outputs": [
        {
          "output_type": "execute_result",
          "data": {
            "text/plain": [
              "False"
            ]
          },
          "metadata": {},
          "execution_count": 23
        }
      ]
    },
    {
      "cell_type": "markdown",
      "source": [
        "### Operadores de comparación\n",
        "\n",
        "* `>`: mayor que\n",
        "* `>=`: mayor o igual que\n",
        "* `<`: menor que\n",
        "* `<=`: menor o igual que\n",
        "* `==`: igual\n",
        "* `!=`: diferente"
      ],
      "metadata": {
        "id": "0aMK03aHuHaH"
      }
    },
    {
      "cell_type": "code",
      "source": [
        "a = 1\n",
        "b = 1\n",
        "\n",
        "print(f'Mayor que: {a>b}')\n",
        "print(f'Mayor o igual que: {a>=b}')\n",
        "print(f'Menor que {a<b}')\n",
        "print(f'Menor o igual que: {a<=b}')\n",
        "print(f'Igual: {a == b}')\n",
        "print(f'Diferente:  {a != b}')"
      ],
      "metadata": {
        "colab": {
          "base_uri": "https://localhost:8080/"
        },
        "id": "07Y7kUtishAs",
        "outputId": "68c8367f-6e8c-49f3-ce24-7bc855546d93"
      },
      "execution_count": null,
      "outputs": [
        {
          "output_type": "stream",
          "name": "stdout",
          "text": [
            "Mayor que: False\n",
            "Mayor o igual que: True\n",
            "Menor que False\n",
            "Menor o igual que: True\n",
            "Igual: True\n",
            "Diferente:  False\n"
          ]
        }
      ]
    },
    {
      "cell_type": "code",
      "source": [
        "# Ejercicio, mayor de edad\n",
        "age = int(input(\"Danos tu edad:\"))\n",
        "\n",
        "print(\"Hola eres mayor de edad\" if age >= 18 else \"no eres mayor de edad mi tio\")"
      ],
      "metadata": {
        "colab": {
          "base_uri": "https://localhost:8080/"
        },
        "id": "f3fe7G8Uu1H9",
        "outputId": "a6723b17-0809-4dbf-b7d6-aa6efd5771e4"
      },
      "execution_count": null,
      "outputs": [
        {
          "output_type": "stream",
          "name": "stdout",
          "text": [
            "Danos tu edad:18\n",
            "Hola eres mayor de edad\n"
          ]
        }
      ]
    },
    {
      "cell_type": "markdown",
      "source": [
        "### Comparaciones simultaneas"
      ],
      "metadata": {
        "id": "biim-DihnR-y"
      }
    },
    {
      "cell_type": "code",
      "source": [
        "edad = 17\n",
        "\n",
        "(edad >= 16) and (edad <= 40)"
      ],
      "metadata": {
        "id": "gk_Wkk17wcfu",
        "colab": {
          "base_uri": "https://localhost:8080/"
        },
        "outputId": "ee661fe0-bec2-4711-ff33-68b058437545"
      },
      "execution_count": null,
      "outputs": [
        {
          "output_type": "execute_result",
          "data": {
            "text/plain": [
              "True"
            ]
          },
          "metadata": {},
          "execution_count": 1
        }
      ]
    },
    {
      "cell_type": "code",
      "source": [
        "nombre = \"Marcos Eduardo\"\n",
        "\n",
        "(nombre[-2:] == 'os') or (nombre[:2] == 'Ed')"
      ],
      "metadata": {
        "colab": {
          "base_uri": "https://localhost:8080/"
        },
        "id": "yp_nfkGtrpV-",
        "outputId": "20ad1385-1d21-4a6a-cc90-2597213903a7"
      },
      "execution_count": null,
      "outputs": [
        {
          "output_type": "execute_result",
          "data": {
            "text/plain": [
              "False"
            ]
          },
          "metadata": {},
          "execution_count": 3
        }
      ]
    },
    {
      "cell_type": "code",
      "source": [
        "# Montaña rusa 5 dolares y mas de 170\n",
        "dinero = float(input(\"Cuanto dinero tienes  \"))\n",
        "altura = float(input(\"Tu estatura es de  \"))\n",
        "print(f'Me puede subir: {(dinero >= 5) and (altura > 170)}')"
      ],
      "metadata": {
        "colab": {
          "base_uri": "https://localhost:8080/"
        },
        "id": "7BhIWnJqsLM8",
        "outputId": "371717b5-acf2-4da0-feba-5ae458a026e1"
      },
      "execution_count": null,
      "outputs": [
        {
          "output_type": "stream",
          "name": "stdout",
          "text": [
            "Cuanto dinero tienes  5\n",
            "Tu estatura es de  170\n",
            "Me puede subir: True\n"
          ]
        }
      ]
    },
    {
      "cell_type": "markdown",
      "source": [
        "### Comparaciones entre strings"
      ],
      "metadata": {
        "id": "e8E5Js2Wt9P6"
      }
    },
    {
      "cell_type": "code",
      "source": [
        "\"Marcos\" == \"marcos\""
      ],
      "metadata": {
        "colab": {
          "base_uri": "https://localhost:8080/"
        },
        "id": "yMY6TxrxtOsy",
        "outputId": "fb24208d-b11a-4042-e7f5-399680219a89"
      },
      "execution_count": null,
      "outputs": [
        {
          "output_type": "execute_result",
          "data": {
            "text/plain": [
              "False"
            ]
          },
          "metadata": {},
          "execution_count": 13
        }
      ]
    },
    {
      "cell_type": "code",
      "source": [
        "7 == \"7\""
      ],
      "metadata": {
        "colab": {
          "base_uri": "https://localhost:8080/"
        },
        "id": "juGXQ8X9t0hY",
        "outputId": "70f388cf-6c54-429a-a147-d98cca58a094"
      },
      "execution_count": null,
      "outputs": [
        {
          "output_type": "execute_result",
          "data": {
            "text/plain": [
              "False"
            ]
          },
          "metadata": {},
          "execution_count": 14
        }
      ]
    },
    {
      "cell_type": "code",
      "source": [
        "7 == 7.0"
      ],
      "metadata": {
        "colab": {
          "base_uri": "https://localhost:8080/"
        },
        "id": "Y89EZFzPt3uu",
        "outputId": "8498516f-f000-429f-fcdc-7f317aaf3436"
      },
      "execution_count": null,
      "outputs": [
        {
          "output_type": "execute_result",
          "data": {
            "text/plain": [
              "True"
            ]
          },
          "metadata": {},
          "execution_count": 15
        }
      ]
    },
    {
      "cell_type": "code",
      "source": [
        "\"Madrid\" < \"Mallorca\""
      ],
      "metadata": {
        "colab": {
          "base_uri": "https://localhost:8080/"
        },
        "id": "i2vi9Vjat6_K",
        "outputId": "13c59e5b-535b-4806-8d8a-56c4c57d8a57"
      },
      "execution_count": null,
      "outputs": [
        {
          "output_type": "execute_result",
          "data": {
            "text/plain": [
              "True"
            ]
          },
          "metadata": {},
          "execution_count": 22
        }
      ]
    },
    {
      "cell_type": "code",
      "source": [
        "\"Ecatepec\" < \"Nezahualcoyotl\" # "
      ],
      "metadata": {
        "colab": {
          "base_uri": "https://localhost:8080/"
        },
        "id": "uRZ2CQqwuDC9",
        "outputId": "5de3861b-70ac-4494-82cb-4d59afb86027"
      },
      "execution_count": null,
      "outputs": [
        {
          "output_type": "execute_result",
          "data": {
            "text/plain": [
              "True"
            ]
          },
          "metadata": {},
          "execution_count": 17
        }
      ]
    },
    {
      "cell_type": "code",
      "source": [
        "\"España\" == \"Madrid\""
      ],
      "metadata": {
        "colab": {
          "base_uri": "https://localhost:8080/"
        },
        "id": "ICfbBsv6uIp7",
        "outputId": "46dc27f3-d34b-4bbb-92a8-a81a93d1d78c"
      },
      "execution_count": null,
      "outputs": [
        {
          "output_type": "execute_result",
          "data": {
            "text/plain": [
              "False"
            ]
          },
          "metadata": {},
          "execution_count": 18
        }
      ]
    },
    {
      "cell_type": "code",
      "source": [
        "\"España\" <= \"Madrid\" # españa esta antes que madrid si, porque la E es primero"
      ],
      "metadata": {
        "colab": {
          "base_uri": "https://localhost:8080/"
        },
        "id": "IaiNNa_RuRJ_",
        "outputId": "64dbd2e9-1189-4207-cc3b-3a852f7b8d8d"
      },
      "execution_count": null,
      "outputs": [
        {
          "output_type": "execute_result",
          "data": {
            "text/plain": [
              "True"
            ]
          },
          "metadata": {},
          "execution_count": 20
        }
      ]
    },
    {
      "cell_type": "markdown",
      "source": [
        "### Métodos de comparación para `Strings`\n",
        "* `.startswith(parametro)`: si empieza por alguna letra o palabra\n",
        "* `.endswith(parametro)`: si termina con una letra o palabra\n",
        "* `.isalnum()`: si es alfanumerico\n",
        "* `.isalpha()`: si es alfabetico\n",
        "* `.isdigit()`: si es un digito númerico en base 10\n",
        "* `.isspace()`: si es un espacio\n",
        "* `.islower()`: si son minusculas\n",
        "* `.isupper()`: si son mayusculas\n",
        "* `.istitle()`: si las letras inciales de cada palabra vienen en mayuscula\n",
        "* `.iscapitalize()`: si la primera viene en mayuscula\n",
        "* `.isascii()`: nos da el formato de letras, numeros e iconos especiales\n",
        "* ``:"
      ],
      "metadata": {
        "id": "XqLXidhvuoMz"
      }
    },
    {
      "cell_type": "code",
      "source": [
        "ciudad = \"Ciudad de México\"\n",
        "ciudad.startswith(\"Ci\")"
      ],
      "metadata": {
        "colab": {
          "base_uri": "https://localhost:8080/"
        },
        "id": "KP7ozqSDuU-w",
        "outputId": "d1441a67-c01a-4877-c225-ea52f9c4cdaa"
      },
      "execution_count": null,
      "outputs": [
        {
          "output_type": "execute_result",
          "data": {
            "text/plain": [
              "True"
            ]
          },
          "metadata": {},
          "execution_count": 23
        }
      ]
    },
    {
      "cell_type": "code",
      "source": [
        "pais = 'Serbia'\n",
        "pais.endswith('ia')"
      ],
      "metadata": {
        "colab": {
          "base_uri": "https://localhost:8080/"
        },
        "id": "wPCCz4Ygu-3F",
        "outputId": "98215d69-5fa4-4248-8d4d-22374a96ab25"
      },
      "execution_count": null,
      "outputs": [
        {
          "output_type": "execute_result",
          "data": {
            "text/plain": [
              "True"
            ]
          },
          "metadata": {},
          "execution_count": 24
        }
      ]
    },
    {
      "cell_type": "code",
      "source": [
        "id = '1000A1001'\n",
        "id.isalnum()"
      ],
      "metadata": {
        "colab": {
          "base_uri": "https://localhost:8080/"
        },
        "id": "eG5hBio9x52z",
        "outputId": "52345bfc-f0f2-40ea-e508-c0ae4b87c056"
      },
      "execution_count": null,
      "outputs": [
        {
          "output_type": "execute_result",
          "data": {
            "text/plain": [
              "True"
            ]
          },
          "metadata": {},
          "execution_count": 25
        }
      ]
    },
    {
      "cell_type": "code",
      "source": [
        "id = \"aaa1010\"\n",
        "id.isalpha()"
      ],
      "metadata": {
        "colab": {
          "base_uri": "https://localhost:8080/"
        },
        "id": "-rlPqsAFyEsh",
        "outputId": "19a8cf3f-eedd-4e2d-948f-7318f2bc206b"
      },
      "execution_count": null,
      "outputs": [
        {
          "output_type": "execute_result",
          "data": {
            "text/plain": [
              "False"
            ]
          },
          "metadata": {},
          "execution_count": 26
        }
      ]
    },
    {
      "cell_type": "code",
      "source": [
        "id = \"1002\"\n",
        "id.isdigit()"
      ],
      "metadata": {
        "colab": {
          "base_uri": "https://localhost:8080/"
        },
        "id": "Gk2pLCvDyQYB",
        "outputId": "28446fe1-fa10-404e-874b-bbc8e1f0f425"
      },
      "execution_count": null,
      "outputs": [
        {
          "output_type": "execute_result",
          "data": {
            "text/plain": [
              "True"
            ]
          },
          "metadata": {},
          "execution_count": 28
        }
      ]
    },
    {
      "cell_type": "code",
      "source": [
        "id = \"Hola $$\"\n",
        "id.isascii()"
      ],
      "metadata": {
        "colab": {
          "base_uri": "https://localhost:8080/"
        },
        "id": "Mp77VlL-yUBr",
        "outputId": "ded90ac5-3d35-4ff7-de8e-cb7958e4e483"
      },
      "execution_count": null,
      "outputs": [
        {
          "output_type": "execute_result",
          "data": {
            "text/plain": [
              "True"
            ]
          },
          "metadata": {},
          "execution_count": 30
        }
      ]
    },
    {
      "cell_type": "code",
      "source": [
        "id = 'Esto es un espacio'\n",
        "id.isspace()"
      ],
      "metadata": {
        "colab": {
          "base_uri": "https://localhost:8080/"
        },
        "id": "O7uEqYKpyZ-1",
        "outputId": "847ddf49-b4db-4591-8241-5bec08c607aa"
      },
      "execution_count": null,
      "outputs": [
        {
          "output_type": "execute_result",
          "data": {
            "text/plain": [
              "False"
            ]
          },
          "metadata": {},
          "execution_count": 31
        }
      ]
    },
    {
      "cell_type": "code",
      "source": [
        "id = \" \"\n",
        "id.isspace()"
      ],
      "metadata": {
        "colab": {
          "base_uri": "https://localhost:8080/"
        },
        "id": "apzI-Rfmyji_",
        "outputId": "d7e14363-5395-41db-d320-e197bfebf5bd"
      },
      "execution_count": null,
      "outputs": [
        {
          "output_type": "execute_result",
          "data": {
            "text/plain": [
              "True"
            ]
          },
          "metadata": {},
          "execution_count": 32
        }
      ]
    },
    {
      "cell_type": "code",
      "source": [
        "id = 'todo esto es minusculas'\n",
        "id.islower()"
      ],
      "metadata": {
        "colab": {
          "base_uri": "https://localhost:8080/"
        },
        "id": "ctlsL5hrymVu",
        "outputId": "d6789d45-a3c9-4313-cf13-758be12781e5"
      },
      "execution_count": null,
      "outputs": [
        {
          "output_type": "execute_result",
          "data": {
            "text/plain": [
              "True"
            ]
          },
          "metadata": {},
          "execution_count": 33
        }
      ]
    },
    {
      "cell_type": "code",
      "source": [
        "id = \"Todo esto es mayusculas\"\n",
        "id.isupper()"
      ],
      "metadata": {
        "colab": {
          "base_uri": "https://localhost:8080/"
        },
        "id": "yJ8oY6IWyrn9",
        "outputId": "689c0ecf-d11e-47cc-f3b7-4a85cc953bb2"
      },
      "execution_count": null,
      "outputs": [
        {
          "output_type": "execute_result",
          "data": {
            "text/plain": [
              "False"
            ]
          },
          "metadata": {},
          "execution_count": 34
        }
      ]
    },
    {
      "cell_type": "code",
      "source": [
        "id = \"Esto Esta Capitalizado\"\n",
        "id.istitle()"
      ],
      "metadata": {
        "colab": {
          "base_uri": "https://localhost:8080/"
        },
        "id": "bHSSj5r2yu-Z",
        "outputId": "0ab46554-17fb-4857-b4fe-c7bbf42351f7"
      },
      "execution_count": null,
      "outputs": [
        {
          "output_type": "execute_result",
          "data": {
            "text/plain": [
              "True"
            ]
          },
          "metadata": {},
          "execution_count": 37
        }
      ]
    },
    {
      "cell_type": "markdown",
      "source": [
        "### IF"
      ],
      "metadata": {
        "id": "aqunqB0_zCmO"
      }
    },
    {
      "cell_type": "code",
      "source": [
        "color = 'verde'\n",
        "color == 'verde'"
      ],
      "metadata": {
        "colab": {
          "base_uri": "https://localhost:8080/"
        },
        "id": "oyKWYtnoyyf_",
        "outputId": "5d26600e-0264-4360-e143-5ebf2ccc8d5f"
      },
      "execution_count": null,
      "outputs": [
        {
          "output_type": "execute_result",
          "data": {
            "text/plain": [
              "True"
            ]
          },
          "metadata": {},
          "execution_count": 38
        }
      ]
    },
    {
      "cell_type": "code",
      "source": [
        "color == 'blue'"
      ],
      "metadata": {
        "colab": {
          "base_uri": "https://localhost:8080/"
        },
        "id": "-B2_y-LVzOWj",
        "outputId": "9eb735c7-a7e2-42c2-a188-7db8b254f57c"
      },
      "execution_count": null,
      "outputs": [
        {
          "output_type": "execute_result",
          "data": {
            "text/plain": [
              "False"
            ]
          },
          "metadata": {},
          "execution_count": 39
        }
      ]
    },
    {
      "cell_type": "code",
      "source": [
        "edad = 19\n",
        "if edad > 18:\n",
        "    print(\"Eres mayor de edad\")"
      ],
      "metadata": {
        "colab": {
          "base_uri": "https://localhost:8080/"
        },
        "id": "jtBvo9GTzPlJ",
        "outputId": "f545316a-9bf0-4fb0-9799-0416dc78f19a"
      },
      "execution_count": null,
      "outputs": [
        {
          "output_type": "stream",
          "name": "stdout",
          "text": [
            "Eres mayor de edad\n"
          ]
        }
      ]
    },
    {
      "cell_type": "code",
      "source": [
        "altura = 190\n",
        "if altura > 170:\n",
        "    print(\"Tu estatura esta arriba de la media en basquetball\")"
      ],
      "metadata": {
        "colab": {
          "base_uri": "https://localhost:8080/"
        },
        "id": "bkvLI7g_zVbx",
        "outputId": "3dba90a1-68ea-404f-a4df-b516b6f388cc"
      },
      "execution_count": null,
      "outputs": [
        {
          "output_type": "stream",
          "name": "stdout",
          "text": [
            "Tu estatura esta arriba de la media en basquetball\n"
          ]
        }
      ]
    },
    {
      "cell_type": "code",
      "source": [
        "age = int(input(\"Danos tu edad: \"))\n",
        "\n",
        "if ( 16 < age < 41):\n",
        "    print(\"Puedes pertenecer al barco de pyratilla\")"
      ],
      "metadata": {
        "colab": {
          "base_uri": "https://localhost:8080/"
        },
        "id": "7HAnd_LlzdGt",
        "outputId": "8bf5e394-6e4b-4b93-b9c3-eafd577b7d5a"
      },
      "execution_count": null,
      "outputs": [
        {
          "output_type": "stream",
          "name": "stdout",
          "text": [
            "Danos tu edad: 17\n",
            "Puedes pertenecer al barco de pyratilla\n"
          ]
        }
      ]
    },
    {
      "cell_type": "markdown",
      "source": [
        "#### Ejercicio\n",
        "\n",
        "Saber si un string contiene espacios"
      ],
      "metadata": {
        "id": "PeF5MvSm0YmD"
      }
    },
    {
      "cell_type": "code",
      "source": [
        "s = \"Hola mi nombre es Marcos\"\n",
        "c = \" \"\n",
        "if c in s:\n",
        "    print(f'El string tiene espacios y contiene {s.count(c)}')"
      ],
      "metadata": {
        "colab": {
          "base_uri": "https://localhost:8080/"
        },
        "id": "G_0-AsNB0cKJ",
        "outputId": "1de4b58e-3198-4553-a666-30916bafa591"
      },
      "execution_count": null,
      "outputs": [
        {
          "output_type": "stream",
          "name": "stdout",
          "text": [
            "El string tiene espacios y contiene 4\n"
          ]
        }
      ]
    },
    {
      "cell_type": "markdown",
      "source": [
        "### IF ELSE"
      ],
      "metadata": {
        "id": "7IP3BOLq0THb"
      }
    },
    {
      "cell_type": "code",
      "source": [
        "is_adult = True\n",
        "if is_adult:\n",
        "    print(\"Eres adulto\")\n",
        "else: print(\"No eres adulto\")"
      ],
      "metadata": {
        "colab": {
          "base_uri": "https://localhost:8080/"
        },
        "id": "MZh1eNehzycv",
        "outputId": "aa294073-9145-4737-a675-007aef2c99d0"
      },
      "execution_count": null,
      "outputs": [
        {
          "output_type": "stream",
          "name": "stdout",
          "text": [
            "Eres adulto\n"
          ]
        }
      ]
    },
    {
      "cell_type": "code",
      "source": [
        "edad = int(input(\"Danos tu edad: \"))\n",
        "if 18 <= edad <=40:\n",
        "    print(\"Eres joven - adulto\")\n",
        "else:\n",
        "    print(\"No formas parte de estas generaciones\")"
      ],
      "metadata": {
        "colab": {
          "base_uri": "https://localhost:8080/"
        },
        "id": "2Ydi5JE34ujM",
        "outputId": "abb47585-bfff-4741-83fa-7fa42eca45b6"
      },
      "execution_count": null,
      "outputs": [
        {
          "output_type": "stream",
          "name": "stdout",
          "text": [
            "Danos tu edad: 18\n",
            "Eres joven - adulto\n"
          ]
        }
      ]
    },
    {
      "cell_type": "markdown",
      "source": [
        "#### Ejercicio\n",
        "Ecuaciones de primer grado"
      ],
      "metadata": {
        "id": "cBHdb7h05uRt"
      }
    },
    {
      "cell_type": "code",
      "source": [
        "A = float(input(\"Coeficiente A= \"))\n",
        "B = float(input(\"Coeficiente B= \"))\n",
        "\n",
        "if A != 0:\n",
        "    sol = -B / A\n",
        "    print(f\"La solución es x = {sol}\")\n",
        "else:\n",
        "    print('No hay ecuación que resolver porque A = 0')"
      ],
      "metadata": {
        "colab": {
          "base_uri": "https://localhost:8080/"
        },
        "id": "Nk8RdAMM5Af8",
        "outputId": "455132cc-1f8d-46ae-bb91-838f22a8983d"
      },
      "execution_count": null,
      "outputs": [
        {
          "output_type": "stream",
          "name": "stdout",
          "text": [
            "Coeficiente A= 2\n",
            "Coeficiente B= 2\n",
            "La solución es x = -1.0\n"
          ]
        }
      ]
    },
    {
      "cell_type": "markdown",
      "source": [
        "### IF ELIF ELSE"
      ],
      "metadata": {
        "id": "XgHaX9lsy6iT"
      }
    },
    {
      "cell_type": "code",
      "source": [
        "age = int(input(\"Danos la edad:\"))\n",
        "if age < 20:\n",
        "    etapa = \"Juventud\"\n",
        "elif age < 40:\n",
        "    etapa = \"Madurez\"\n",
        "else:\n",
        "    etapa = \"Vejez\"\n",
        "print(\"Usted tiene {} años y esta en la etapa de {}\".format(age,etapa))"
      ],
      "metadata": {
        "id": "tKzQOHld6lDl",
        "colab": {
          "base_uri": "https://localhost:8080/"
        },
        "outputId": "4e189cc8-01b3-4cd4-d20f-4c016429ac44"
      },
      "execution_count": null,
      "outputs": [
        {
          "output_type": "stream",
          "name": "stdout",
          "text": [
            "Danos la edad:20\n",
            "Usted tiene 20 años y esta en la etapa de Madurez\n"
          ]
        }
      ]
    },
    {
      "cell_type": "code",
      "source": [
        "age = int(input('Danos tu edad, recuerda que para entrar debes tener mas de 16 y menos de 40: '))\n",
        "mensaje = str()\n",
        "if age < 0:\n",
        "    mensaje = \"No valida\"\n",
        "elif age < 16:\n",
        "    mensaje = \"Tienes menos de 16 así que no puedes entrar\"\n",
        "elif age < 40:\n",
        "    mensaje = \"es una edad valida para pertencer, solo tienes que hacer una entrevista\"\n",
        "else:\n",
        "    mensaje = \"usted tiene mas de 40, ya no puede entrar\"\n",
        "\n",
        "if mensaje == 'No valida':\n",
        "    print(\"Número no valido\")\n",
        "else:\n",
        "    print(f\"Tu edad es de {age} y {mensaje}\")\n"
      ],
      "metadata": {
        "colab": {
          "base_uri": "https://localhost:8080/"
        },
        "id": "k5_R3jNpzeIp",
        "outputId": "342a9276-7026-4009-fd88-8f26764e1f39"
      },
      "execution_count": null,
      "outputs": [
        {
          "output_type": "stream",
          "name": "stdout",
          "text": [
            "Danos tu edad, recuerda que para entrar debes tener mas de 16 y menos de 40: -12\n",
            "Número no valido\n"
          ]
        }
      ]
    },
    {
      "cell_type": "code",
      "source": [
        "age = int(input('Danos tu edad, recuerda que para entrar debes tener mas de 16 y menos de 40: '))\n",
        "mensaje = str()\n",
        "\n",
        "if age < 0:\n",
        "    print(\"Numero invalido\")\n",
        "elif age > 15 and age < 41:\n",
        "    print(\"Puedes pertenecer\")\n",
        "else:\n",
        "    print(\"No puedes pertenecer\")"
      ],
      "metadata": {
        "colab": {
          "base_uri": "https://localhost:8080/"
        },
        "id": "6icQ_92F0j62",
        "outputId": "4c736e36-cd86-46e0-a519-9ca5a5c8f9fd"
      },
      "execution_count": null,
      "outputs": [
        {
          "output_type": "stream",
          "name": "stdout",
          "text": [
            "Danos tu edad, recuerda que para entrar debes tener mas de 16 y menos de 40: 41\n",
            "No puedes pertenecer\n"
          ]
        }
      ]
    },
    {
      "cell_type": "markdown",
      "source": [
        "### Operador ternario"
      ],
      "metadata": {
        "id": "dxMm-cdh5Sz0"
      }
    },
    {
      "cell_type": "code",
      "source": [
        "condicion = True\n",
        "print(\"Es verdadero\" if condicion == True else \"No es verdadero\")"
      ],
      "metadata": {
        "colab": {
          "base_uri": "https://localhost:8080/"
        },
        "id": "xkWN3xIc5vXR",
        "outputId": "d5597aa4-9970-4b98-e057-9f9a715ac3c9"
      },
      "execution_count": null,
      "outputs": [
        {
          "output_type": "stream",
          "name": "stdout",
          "text": [
            "Es verdadero\n"
          ]
        }
      ]
    },
    {
      "cell_type": "code",
      "source": [
        "nombre = \"Marcos Eduardo\"\n",
        "print(\"Tu nombre es muy largo\" if len(nombre) > 10 else \"Es un nombre corto\")"
      ],
      "metadata": {
        "colab": {
          "base_uri": "https://localhost:8080/"
        },
        "id": "0BX-zZYn-_Ks",
        "outputId": "f2bc49bf-48e4-400d-bf47-d800cd6554b1"
      },
      "execution_count": null,
      "outputs": [
        {
          "output_type": "stream",
          "name": "stdout",
          "text": [
            "Tu nombre es muy largo\n"
          ]
        }
      ]
    },
    {
      "cell_type": "markdown",
      "source": [
        "#### Mayoria de edad con ternario"
      ],
      "metadata": {
        "id": "XABhpyagACHi"
      }
    },
    {
      "cell_type": "code",
      "source": [
        "mayoria_edad = 18\n",
        "edad = int(input(\"Danos tu edad:\"))\n",
        "mensaje1 = \"Eres mayor de edad\"\n",
        "mensaje2 = \"No eres mayor de edad\"\n",
        "\n",
        "print(mensaje1 if edad >= mayoria_edad else mensaje2)"
      ],
      "metadata": {
        "colab": {
          "base_uri": "https://localhost:8080/"
        },
        "id": "X5XhRxZJ_SAL",
        "outputId": "18a688ca-65df-43eb-9898-98d9984ef451"
      },
      "execution_count": null,
      "outputs": [
        {
          "output_type": "stream",
          "name": "stdout",
          "text": [
            "Danos tu edad:12\n",
            "No eres mayor de edad\n"
          ]
        }
      ]
    },
    {
      "cell_type": "markdown",
      "source": [
        "### Ejercicio Ternario\n",
        "par o impar"
      ],
      "metadata": {
        "id": "EZlQnu6SAZWP"
      }
    },
    {
      "cell_type": "code",
      "source": [
        "numero = int(input(\"Danos tu numero: \"))\n",
        "par = f\"Tu numero es un par {numero}\"\n",
        "impar = f\"Tu numero es un impar {numero}\"\n",
        "\n",
        "print(par if numero%2==0 else impar)"
      ],
      "metadata": {
        "colab": {
          "base_uri": "https://localhost:8080/"
        },
        "id": "ww8EAmHR_-6r",
        "outputId": "8fd5e5f1-c899-4a4a-99fe-56a6a100baa4"
      },
      "execution_count": null,
      "outputs": [
        {
          "output_type": "stream",
          "name": "stdout",
          "text": [
            "Danos tu numero: 1234\n",
            "Tu numero es un par 1234\n"
          ]
        }
      ]
    },
    {
      "cell_type": "code",
      "source": [
        "x = float(input(\"x: \"))\n",
        "y = float(input(\"y: \"))\n",
        "\n",
        "if (x >= 0 and x <= 1) and (y >= 0 and y <= 1):\n",
        "    print(\"el punto ({},{}) SI pertenece\".format(x,y))\n",
        "else:\n",
        "    print(\"el punto ({},{}) NO pertenece\".format(x,y))\n",
        "\n"
      ],
      "metadata": {
        "id": "_e80N1BgAvgs",
        "colab": {
          "base_uri": "https://localhost:8080/"
        },
        "outputId": "266b33de-be67-4844-9ee2-7b0985de6e85"
      },
      "execution_count": null,
      "outputs": [
        {
          "output_type": "stream",
          "name": "stdout",
          "text": [
            "x: .1\n",
            "y: .4\n",
            "el punto (0.1,0.4) SI pertenece\n"
          ]
        }
      ]
    },
    {
      "cell_type": "code",
      "source": [
        "edad = int(input('age: '))\n",
        "nombre = str(input('name: '))\n",
        "\n",
        "if edad >= 18:\n",
        "    if nombre.startswith('M') or nombre.startswith('m'):\n",
        "        print(f'Tu edad es de {edad} y tu nombre {nombre} empieza por M')\n",
        "    else:\n",
        "        print(f'Eres mayor de edad {edad}, pero no cumples con la validación del nombre')\n",
        "else:\n",
        "    print(\"No eres mayor de edad\")"
      ],
      "metadata": {
        "id": "Rba60Ui4kGXc"
      },
      "execution_count": null,
      "outputs": []
    },
    {
      "cell_type": "code",
      "source": [
        "# pasar segundos a minutos y horas\n",
        "vueltas = int(input(\"Cuantas vueltas diste: \"))\n",
        "minutos = float(input(\"Cuantos minutos corriste: \"))\n",
        "distancia = vueltas * 400\n",
        "tiempo_por_vuelta = distancia/(minutos * 60)  \n",
        "print((tiempo_por_vuelta/60 * 100))"
      ],
      "metadata": {
        "colab": {
          "base_uri": "https://localhost:8080/"
        },
        "id": "UQIDiq9_ojmz",
        "outputId": "89c4f964-f66b-4094-e263-dd98d617eda8"
      },
      "execution_count": null,
      "outputs": [
        {
          "output_type": "stream",
          "name": "stdout",
          "text": [
            "Cuantas vueltas diste: 10\n",
            "Cuantos minutos corriste: 35\n",
            "3.1746031746031744\n"
          ]
        }
      ]
    },
    {
      "cell_type": "markdown",
      "source": [
        "#### Ejercicio\n",
        "Años biciesto es si es multiplo de 4, pero no es multiplo 100 a no ser que sea 400"
      ],
      "metadata": {
        "id": "-kI9txgxqrw8"
      }
    },
    {
      "cell_type": "code",
      "source": [
        "anio = int(input('Danos el año '))\n",
        "\n",
        "if anio%4==0:\n",
        "    if anio % 100==0:\n",
        "        if anio % 400==0:\n",
        "            print(f'El año {anio} es biciesto')\n",
        "        else:\n",
        "            print(f'el año {anio} no es biciesto')\n",
        "\n",
        "    else: \n",
        "        print(f'El año {anio} es biciesto ')\n",
        "else:\n",
        "    print(f'el año {anio} no es biciesto')"
      ],
      "metadata": {
        "colab": {
          "base_uri": "https://localhost:8080/"
        },
        "id": "ockoGJwHpJhU",
        "outputId": "09556c3d-5d55-40f6-d5ac-892ca9d84202"
      },
      "execution_count": null,
      "outputs": [
        {
          "output_type": "stream",
          "name": "stdout",
          "text": [
            "Danos el año 1993\n",
            "el año 1993 no es biciesto\n"
          ]
        }
      ]
    },
    {
      "cell_type": "markdown",
      "source": [
        "## Bucles de iteración \n",
        "Aquí veremos los bucles para saber como funcionan tanto while como for"
      ],
      "metadata": {
        "id": "sHtnTfmE4cDb"
      }
    },
    {
      "cell_type": "markdown",
      "source": [
        "### `While`\n",
        "su traducción literal es decir mientras se cumple una condición ejecuta lo siguiente.\n",
        "\n",
        "mientra a sea menor a 10 : `while a < 10`\n",
        "\n",
        "mientras a <= 'z': `while a <= 'z'`"
      ],
      "metadata": {
        "id": "JhFrNbXt54sG"
      }
    },
    {
      "cell_type": "code",
      "source": [
        "# while\n",
        "a = 0\n",
        "while a < 10:\n",
        "    print(\"Hola \",end=\"\")\n",
        "    a += 1"
      ],
      "metadata": {
        "id": "p_77R_bSt8Mc",
        "colab": {
          "base_uri": "https://localhost:8080/"
        },
        "outputId": "31e0e940-e884-4970-e1f9-7b37b2e6a64f"
      },
      "execution_count": null,
      "outputs": [
        {
          "output_type": "stream",
          "name": "stdout",
          "text": [
            "Hola Hola Hola Hola Hola Hola Hola Hola Hola Hola "
          ]
        }
      ]
    },
    {
      "cell_type": "code",
      "source": [
        " a = 0\n",
        " while a < 11:\n",
        "     print(a)\n",
        "     a += 1\n",
        "else: print(\"Bucle while terminado\")"
      ],
      "metadata": {
        "colab": {
          "base_uri": "https://localhost:8080/"
        },
        "id": "QEGGhPL34trC",
        "outputId": "1c9e808d-44a2-4cd1-fe7c-fef5324db19f"
      },
      "execution_count": null,
      "outputs": [
        {
          "output_type": "stream",
          "name": "stdout",
          "text": [
            "0\n",
            "1\n",
            "2\n",
            "3\n",
            "4\n",
            "5\n",
            "6\n",
            "7\n",
            "8\n",
            "9\n",
            "10\n",
            "Bucle while terminado\n"
          ]
        }
      ]
    },
    {
      "cell_type": "code",
      "source": [
        "frase = str(input('frase: '))\n",
        "frase = frase.lower()\n",
        "len_frase = len(frase)\n",
        "a = 0\n",
        "contador_vocales = 0\n",
        "while a < len_frase:\n",
        "    if frase[a] == 'a' or frase[a] == 'e' or frase[a] == 'i' or frase[a] == 'o' or frase[a] == 'u':\n",
        "        contador_vocales += 1\n",
        "    \n",
        "    a += 1\n",
        "\n",
        "print(f'Tu frase {frase} tiene {contador_vocales} vocales')"
      ],
      "metadata": {
        "colab": {
          "base_uri": "https://localhost:8080/"
        },
        "id": "PIDbOQ0a5uiT",
        "outputId": "502c607e-bf1b-4647-b6f9-ec63c3069b96"
      },
      "execution_count": null,
      "outputs": [
        {
          "output_type": "stream",
          "name": "stdout",
          "text": [
            "frase: Marcos Eduardo Fuerte Cruz\n",
            "Tu frase marcos eduardo fuerte cruz tiene 10 vocales\n"
          ]
        }
      ]
    },
    {
      "cell_type": "markdown",
      "source": [
        "### `While - Break`"
      ],
      "metadata": {
        "id": "VRdCzLUaeyuT"
      }
    },
    {
      "cell_type": "code",
      "source": [
        "# Fibonacci\n",
        "a = 0\n",
        "b = 1 \n",
        "c = 0\n",
        "while a < 1000:\n",
        "    print(a)\n",
        "    a = b + c\n",
        "    b = c\n",
        "    c = a"
      ],
      "metadata": {
        "id": "j9rajtb96YxN",
        "colab": {
          "base_uri": "https://localhost:8080/"
        },
        "outputId": "0259c401-185e-48bb-cf21-68c23a773038"
      },
      "execution_count": null,
      "outputs": [
        {
          "output_type": "stream",
          "name": "stdout",
          "text": [
            "0\n",
            "1\n",
            "1\n",
            "2\n",
            "3\n",
            "5\n",
            "8\n",
            "13\n",
            "21\n",
            "34\n",
            "55\n",
            "89\n",
            "144\n",
            "233\n",
            "377\n",
            "610\n",
            "987\n"
          ]
        }
      ]
    },
    {
      "cell_type": "markdown",
      "source": [
        "Creando una función para un bucle while y poder ocupar fibonacci"
      ],
      "metadata": {
        "id": "YN0_1SQeuGCI"
      }
    },
    {
      "cell_type": "code",
      "source": [
        "def fibonacci(n):\n",
        "    a,b,c = 0,1,0\n",
        "    while a < n:\n",
        "        print(f'{a} ',end='')\n",
        "        a = c + b\n",
        "        b = c\n",
        "        c = a\n",
        "        if a == 144:\n",
        "            print(\"la lista tiene un elemento que no puede continuar\")\n",
        "            break\n",
        "    else:\n",
        "        print(\"Bucle finalizado\")\n",
        "\n",
        "fibonacci(1000)"
      ],
      "metadata": {
        "colab": {
          "base_uri": "https://localhost:8080/"
        },
        "id": "oMsNNpn7fZq1",
        "outputId": "62fa7de2-9220-43f0-8df7-47dcc6bcc375"
      },
      "execution_count": null,
      "outputs": [
        {
          "output_type": "stream",
          "name": "stdout",
          "text": [
            "0 1 1 2 3 5 8 13 21 34 55 89 la lista tiene un elemento que no puede continuar\n"
          ]
        }
      ]
    },
    {
      "cell_type": "code",
      "source": [
        "fibonacci(10)"
      ],
      "metadata": {
        "colab": {
          "base_uri": "https://localhost:8080/"
        },
        "id": "WgQLwzEuksdQ",
        "outputId": "552b6d6c-5167-4e61-cef4-d335865a9dc4"
      },
      "execution_count": null,
      "outputs": [
        {
          "output_type": "stream",
          "name": "stdout",
          "text": [
            "0 1 1 2 3 5 8 Bucle finalizado\n"
          ]
        }
      ]
    },
    {
      "cell_type": "markdown",
      "source": [
        "### Ejercicio bucle `while`\n",
        "\n",
        "encontrar el primer numero que sea divisible entre 2, 3 y 5"
      ],
      "metadata": {
        "id": "QXgYe0P35xLf"
      }
    },
    {
      "cell_type": "code",
      "source": [
        "a = int(input(\"Danos el extremo inferior:\"))\n",
        "b = int(input(\"Danos el extremo superior:\"))\n",
        "n = a\n",
        "while a <= b:\n",
        "    if a%2==0 and a%3==0 and a%5==0:\n",
        "        print(f\"El número {a} es divisible entre 2,3,5\")\n",
        "        break\n",
        "    a += 1\n",
        "else:\n",
        "    print(f\"Ningún número es divisible entre 2,3,5 de tu intervalo [{n},{b}]\")"
      ],
      "metadata": {
        "id": "D_cMmJ1zl5CT",
        "colab": {
          "base_uri": "https://localhost:8080/"
        },
        "outputId": "b7064cd8-8f23-4b27-9933-c254b0236f50"
      },
      "execution_count": null,
      "outputs": [
        {
          "output_type": "stream",
          "name": "stdout",
          "text": [
            "Danos el extremo inferior:31\n",
            "Danos el extremo superior:59\n",
            "Ningún número es divisible entre 2,3,5 de tu intervalo [31,59]\n"
          ]
        }
      ]
    },
    {
      "cell_type": "markdown",
      "source": [
        "### `while - else`\n",
        "similar a la forma de usar if else, este te envía un mensaje cuando se cumple el bucle"
      ],
      "metadata": {
        "id": "ZRgEhq139FtI"
      }
    },
    {
      "cell_type": "code",
      "source": [
        "a = 1\n",
        "while a < 10:\n",
        "    print(\"Hola\")\n",
        "    a += 1\n",
        "else: print(\"Este es el final del bucle while\")"
      ],
      "metadata": {
        "colab": {
          "base_uri": "https://localhost:8080/"
        },
        "id": "qdYw57Yk6S4t",
        "outputId": "42254419-d9f7-46fc-e725-272fbbf57ada"
      },
      "execution_count": null,
      "outputs": [
        {
          "output_type": "stream",
          "name": "stdout",
          "text": [
            "Hola\n",
            "Hola\n",
            "Hola\n",
            "Hola\n",
            "Hola\n",
            "Hola\n",
            "Hola\n",
            "Hola\n",
            "Hola\n",
            "Este es el final del bucle while\n"
          ]
        }
      ]
    },
    {
      "cell_type": "code",
      "source": [
        "a = 10\n",
        "while a >= 1:\n",
        "    print(a)\n",
        "    a -= 1\n",
        "else:\n",
        "    print(\"Listo para el despegue...!\")"
      ],
      "metadata": {
        "colab": {
          "base_uri": "https://localhost:8080/"
        },
        "id": "qzUsm_hI9-jx",
        "outputId": "7b0e3ba4-6524-4cca-bc5e-a39bde013ce6"
      },
      "execution_count": null,
      "outputs": [
        {
          "output_type": "stream",
          "name": "stdout",
          "text": [
            "10\n",
            "9\n",
            "8\n",
            "7\n",
            "6\n",
            "5\n",
            "4\n",
            "3\n",
            "2\n",
            "1\n",
            "Listo para el despegue...!\n"
          ]
        }
      ]
    },
    {
      "cell_type": "code",
      "source": [
        "suma = 0\n",
        "a = 'a'\n",
        "while a != 0:\n",
        "    a = int(input('Número a sumar, [digita 0 para terminar suma]: '))\n",
        "    suma += a\n",
        "else:\n",
        "    print(\"El valor de la suma es: {}\".format(suma))"
      ],
      "metadata": {
        "colab": {
          "base_uri": "https://localhost:8080/"
        },
        "id": "ohbJ92DI-Tca",
        "outputId": "8a4aedc4-b665-4697-ea40-55d915d6d821"
      },
      "execution_count": null,
      "outputs": [
        {
          "output_type": "stream",
          "name": "stdout",
          "text": [
            "Número a sumar, [digita 0 para terminar suma]: 1\n",
            "Número a sumar, [digita 0 para terminar suma]: 0\n",
            "El valor de la suma es: 1\n"
          ]
        }
      ]
    },
    {
      "cell_type": "markdown",
      "source": [
        "### Ejercicio `while - else` "
      ],
      "metadata": {
        "id": "ZoXPjTF8E2QU"
      }
    },
    {
      "cell_type": "code",
      "source": [
        "# 65 AL 90\n",
        "\n",
        "n = int(input('Danos el valor de la rotación. '))\n",
        "i = 65 # vale 65 porque aqui empieza el abcdario \n",
        "\n",
        "while i < 91:\n",
        "    if i + n < 91:\n",
        "        print(f'{chr(i)} : {chr(i + n)}')\n",
        "    else:\n",
        "        print(f'{chr(i)} : {chr((i-26) + n)}')\n",
        "    i += 1"
      ],
      "metadata": {
        "colab": {
          "base_uri": "https://localhost:8080/"
        },
        "id": "M4_rcudRE-_5",
        "outputId": "31d4fd7e-98a8-4380-df9f-dcc1d7d6d14e"
      },
      "execution_count": null,
      "outputs": [
        {
          "output_type": "stream",
          "name": "stdout",
          "text": [
            "Danos el valor de la rotación. 10\n",
            "A : K\n",
            "B : L\n",
            "C : M\n",
            "D : N\n",
            "E : O\n",
            "F : P\n",
            "G : Q\n",
            "H : R\n",
            "I : S\n",
            "J : T\n",
            "K : U\n",
            "L : V\n",
            "M : W\n",
            "N : X\n",
            "O : Y\n",
            "P : Z\n",
            "Q : A\n",
            "R : B\n",
            "S : C\n",
            "T : D\n",
            "U : E\n",
            "V : F\n",
            "W : G\n",
            "X : H\n",
            "Y : I\n",
            "Z : J\n"
          ]
        }
      ]
    },
    {
      "cell_type": "markdown",
      "source": [
        "### For\n",
        "La idea del bucle for es: para todos los elementos de la clave, continuamos iterando hasta el final del mismo."
      ],
      "metadata": {
        "id": "WKGR8hxf_fM2"
      }
    },
    {
      "cell_type": "code",
      "source": [
        "for _ in range(10):\n",
        "    print(_,end=\" \")"
      ],
      "metadata": {
        "id": "NN5hm6D_HPsH",
        "colab": {
          "base_uri": "https://localhost:8080/"
        },
        "outputId": "90c21a84-5bdc-4265-bbd5-a29391d6db31"
      },
      "execution_count": null,
      "outputs": [
        {
          "output_type": "stream",
          "name": "stdout",
          "text": [
            "0 1 2 3 4 5 6 7 8 9 "
          ]
        }
      ]
    },
    {
      "cell_type": "code",
      "source": [
        "lista = list(range(10))\n",
        "lista"
      ],
      "metadata": {
        "colab": {
          "base_uri": "https://localhost:8080/"
        },
        "id": "lX9s4Ylc_7Du",
        "outputId": "ff8800eb-c43c-4417-aaf1-678d62f18664"
      },
      "execution_count": null,
      "outputs": [
        {
          "output_type": "execute_result",
          "data": {
            "text/plain": [
              "[0, 1, 2, 3, 4, 5, 6, 7, 8, 9]"
            ]
          },
          "metadata": {},
          "execution_count": 3
        }
      ]
    },
    {
      "cell_type": "code",
      "source": [
        "for l in lista:\n",
        "    print(l)"
      ],
      "metadata": {
        "colab": {
          "base_uri": "https://localhost:8080/"
        },
        "id": "NiJEYCfAAFR9",
        "outputId": "22ae8eee-e3a4-409c-b5ed-e19d1aa3325f"
      },
      "execution_count": null,
      "outputs": [
        {
          "output_type": "stream",
          "name": "stdout",
          "text": [
            "0\n",
            "1\n",
            "2\n",
            "3\n",
            "4\n",
            "5\n",
            "6\n",
            "7\n",
            "8\n",
            "9\n"
          ]
        }
      ]
    },
    {
      "cell_type": "code",
      "source": [
        "s = 'Me gustan las matematicas'\n",
        "for c in s:\n",
        "    print(c.upper(), end=\" \")"
      ],
      "metadata": {
        "colab": {
          "base_uri": "https://localhost:8080/"
        },
        "id": "Mn4yqCXcAInu",
        "outputId": "73f1a552-6e66-4b74-8e70-ab13ee018d47"
      },
      "execution_count": null,
      "outputs": [
        {
          "output_type": "stream",
          "name": "stdout",
          "text": [
            "M E   G U S T A N   L A S   M A T E M A T I C A S "
          ]
        }
      ]
    },
    {
      "cell_type": "code",
      "source": [
        "# invirtiendo un string\n",
        "s = 'Se van sus naves'\n",
        "def invertirFrase(s):\n",
        "    s_inv = \"\"\n",
        "    for c in s:\n",
        "        s_inv = c + s_inv # aquí al poner c antes de s_inv lo que hacemos es concatenarlo por la izquierda\n",
        "    print(s_inv)"
      ],
      "metadata": {
        "id": "mmGI9ZJUAnde"
      },
      "execution_count": null,
      "outputs": []
    },
    {
      "cell_type": "code",
      "source": [
        "invertirFrase('Se van sus naves')\n",
        "invertirFrase('Anita lava la tina')"
      ],
      "metadata": {
        "colab": {
          "base_uri": "https://localhost:8080/"
        },
        "id": "8140YpdYBeMW",
        "outputId": "8f7c75a0-d1c6-42c0-d0a7-ca96af02d78d"
      },
      "execution_count": null,
      "outputs": [
        {
          "output_type": "stream",
          "name": "stdout",
          "text": [
            "sevan sus nav eS\n",
            "anit al aval atinA\n"
          ]
        }
      ]
    },
    {
      "cell_type": "markdown",
      "source": [
        "### `For Range`\n",
        "le asignamos con range un rango de datos dentro del `for`\n",
        "\n",
        "* `start`: comienza en\n",
        "* `stop`: termina en\n",
        "* `step`: saltos de\n",
        "\n",
        "```\n",
        "for elemento in range(start,stop,step):\n",
        "    print(elemento)\n",
        "\n",
        "for i in range(1,10,1):\n",
        "    print(i)\n",
        "\n",
        "# Aquí nos imprimirá de 1 en 1 hasta el 9, de está manera podemos hacer un bucle, no es necesario poner todos\n",
        "```"
      ],
      "metadata": {
        "id": "k7Sb9Ar8CbF8"
      }
    },
    {
      "cell_type": "code",
      "source": [
        "for i in range(1,10):\n",
        "    print(i,end=\" \")"
      ],
      "metadata": {
        "id": "68y0O_rRCDFh",
        "colab": {
          "base_uri": "https://localhost:8080/"
        },
        "outputId": "02468973-81de-48a5-f643-4b8545d4e900"
      },
      "execution_count": null,
      "outputs": [
        {
          "output_type": "stream",
          "name": "stdout",
          "text": [
            "1 2 3 4 5 6 7 8 9 "
          ]
        }
      ]
    },
    {
      "cell_type": "code",
      "source": [
        "for i in range(1,20,2):\n",
        "    print(i,end=\" \")\n"
      ],
      "metadata": {
        "colab": {
          "base_uri": "https://localhost:8080/"
        },
        "id": "ToX1mXn5Cm5f",
        "outputId": "b72a1dca-312a-4275-f26f-ab8e13dcd464"
      },
      "execution_count": null,
      "outputs": [
        {
          "output_type": "stream",
          "name": "stdout",
          "text": [
            "1 3 5 7 9 11 13 15 17 19 "
          ]
        }
      ]
    },
    {
      "cell_type": "code",
      "source": [
        "for i in range(0,20,2):\n",
        "    print(i,end=' ')"
      ],
      "metadata": {
        "colab": {
          "base_uri": "https://localhost:8080/"
        },
        "id": "3szhRGeRCrp3",
        "outputId": "1a67000b-7585-4438-cc73-3a15aed91b70"
      },
      "execution_count": null,
      "outputs": [
        {
          "output_type": "stream",
          "name": "stdout",
          "text": [
            "0 2 4 6 8 10 12 14 16 18 "
          ]
        }
      ]
    },
    {
      "cell_type": "code",
      "source": [
        "lista = 1,2,3,4,5\n",
        "for i in lista:\n",
        "    print(i)"
      ],
      "metadata": {
        "colab": {
          "base_uri": "https://localhost:8080/"
        },
        "id": "4MazJp-FCza8",
        "outputId": "4466163e-8ca8-4237-8fe7-847646b56193"
      },
      "execution_count": null,
      "outputs": [
        {
          "output_type": "stream",
          "name": "stdout",
          "text": [
            "1\n",
            "2\n",
            "3\n",
            "4\n",
            "5\n"
          ]
        }
      ]
    },
    {
      "cell_type": "code",
      "source": [
        "for i in range(3,13,3):\n",
        "    print(i,end=' ')"
      ],
      "metadata": {
        "colab": {
          "base_uri": "https://localhost:8080/"
        },
        "id": "Y2ffXjyLGhI0",
        "outputId": "62dc7261-cf4c-4f70-f0f8-496bdbbd78d9"
      },
      "execution_count": null,
      "outputs": [
        {
          "output_type": "stream",
          "name": "stdout",
          "text": [
            "3 6 9 12 "
          ]
        }
      ]
    },
    {
      "cell_type": "code",
      "source": [
        "for i in range(5):\n",
        "    print(i,end=' ')"
      ],
      "metadata": {
        "colab": {
          "base_uri": "https://localhost:8080/"
        },
        "id": "3dHsFogLInCH",
        "outputId": "1c35c0b7-51dc-4027-9eaf-78762a01d4e8"
      },
      "execution_count": null,
      "outputs": [
        {
          "output_type": "stream",
          "name": "stdout",
          "text": [
            "0 1 2 3 4 "
          ]
        }
      ]
    },
    {
      "cell_type": "code",
      "source": [
        "# tambien se puede hacer a la inversa\n",
        "for i in range(10,0,-1):\n",
        "    print(i,end=\" \")"
      ],
      "metadata": {
        "colab": {
          "base_uri": "https://localhost:8080/"
        },
        "id": "OmXvBEaBI90k",
        "outputId": "f2147711-f8df-4d42-d3ae-a761c325d8e6"
      },
      "execution_count": null,
      "outputs": [
        {
          "output_type": "stream",
          "name": "stdout",
          "text": [
            "10 9 8 7 6 5 4 3 2 1 "
          ]
        }
      ]
    },
    {
      "cell_type": "markdown",
      "source": [
        "### Ejercicio bucle `for - range`"
      ],
      "metadata": {
        "id": "OEorFK6sJq3R"
      }
    },
    {
      "cell_type": "code",
      "source": [
        "a0 = int(input('Danos el primer termino: '))\n",
        "d = int(input('Diferencia: '))\n",
        "af = int(input('Danos la cota:'))\n",
        "suma = 0\n",
        "\n",
        "for an in range(a0,af+1,d):\n",
        "    suma += an\n",
        "    print(an,end=' ')\n",
        "else:\n",
        "    print(f'La suma de la sucesión es de: {suma}')\n",
        " "
      ],
      "metadata": {
        "colab": {
          "base_uri": "https://localhost:8080/"
        },
        "id": "gn-_RAWVJX6D",
        "outputId": "02b86866-069d-455e-abe3-fe3ddabba7ec"
      },
      "execution_count": null,
      "outputs": [
        {
          "output_type": "stream",
          "name": "stdout",
          "text": [
            "Danos el primer termino: 0\n",
            "Diferencia: 2\n",
            "Danos la cota:8\n",
            "0 2 4 6 8 La suma de la sucesión es de: 20\n"
          ]
        }
      ]
    },
    {
      "cell_type": "markdown",
      "source": [
        "### `for continue`\n",
        "es muy parecido al break, en vez de interrupir, lo que hace es saltarse la indicada y seguir"
      ],
      "metadata": {
        "id": "8iB5Viq0K3Yo"
      }
    },
    {
      "cell_type": "code",
      "source": [
        "for i in range(1,101):\n",
        "    if i % 2 == 0 or i % 5 == 0:\n",
        "        continue\n",
        "    else:\n",
        "        print(i,end=' ')"
      ],
      "metadata": {
        "colab": {
          "base_uri": "https://localhost:8080/"
        },
        "id": "VigbofpLKge9",
        "outputId": "32a6e67d-4f17-4c56-d6d6-41b951a184a5"
      },
      "execution_count": null,
      "outputs": [
        {
          "output_type": "stream",
          "name": "stdout",
          "text": [
            "1 3 7 9 11 13 17 19 21 23 27 29 31 33 37 39 41 43 47 49 51 53 57 59 61 63 67 69 71 73 77 79 81 83 87 89 91 93 97 99 "
          ]
        }
      ]
    },
    {
      "cell_type": "markdown",
      "source": [
        "### Ejercicio `for continue`\n",
        "Elimina una letra de un string"
      ],
      "metadata": {
        "id": "sT0wVujNMDf4"
      }
    },
    {
      "cell_type": "code",
      "source": [
        "s = str(input('Danos un string:'))\n",
        "letter = str(input('Que letra quieres eliminar: '))\n",
        "for c in s:\n",
        "    if c == letter:\n",
        "        continue\n",
        "    else:\n",
        "        print(c,end=' ')"
      ],
      "metadata": {
        "colab": {
          "base_uri": "https://localhost:8080/"
        },
        "id": "9azd9imaLJot",
        "outputId": "7ef3ab03-f335-4632-a506-2b97ae4fe9ea"
      },
      "execution_count": null,
      "outputs": [
        {
          "output_type": "stream",
          "name": "stdout",
          "text": [
            "Danos un string:Lavar me da igual siempre y cuando seas ordenado\n",
            "Que letra quieres eliminar: o\n",
            "L a v a r   m e   d a   i g u a l   s i e m p r e   y   c u a n d   s e a s   r d e n a d "
          ]
        }
      ]
    },
    {
      "cell_type": "markdown",
      "source": [
        "### Ejercicio for break continue\n",
        "Dado un `string`, con un bucle `for` vamos a imprimirlo sin vocales y vamos a salir del mismo si l letra que indica el usuario aparece mas de n veces, número también dado por el usuario"
      ],
      "metadata": {
        "id": "unvukMYATufx"
      }
    },
    {
      "cell_type": "code",
      "source": [
        "# s = str(input('Danos un string: '))\n",
        "s = 'pensamos demasiado y sentimos muy poco'\n",
        "s = s.lower()\n",
        "letter = str(input('Que letra quieres eliminar: '))\n",
        "letter = letter.lower()\n",
        "n = int(input('Cuantas veces tiene que aparecer para detener el bucle: '))\n",
        "count = 0\n",
        "\n",
        "for c in s:\n",
        "    if c == 'a' or c == 'e' or c == 'i' or c == 'o' or c == 'u':\n",
        "        continue\n",
        "    if c == letter:\n",
        "        count += 1\n",
        "        if count >= n:   \n",
        "            break\n",
        "            print('\\nSe ha superado el número de veces de la letra')\n",
        "    print(c,end='')"
      ],
      "metadata": {
        "colab": {
          "base_uri": "https://localhost:8080/"
        },
        "id": "hX-vT-JHMa2R",
        "outputId": "56d04efe-d0d3-4a64-9596-f5094b3cb90d"
      },
      "execution_count": null,
      "outputs": [
        {
          "output_type": "stream",
          "name": "stdout",
          "text": [
            "Que letra quieres eliminar: s\n",
            "Cuantas veces tiene que aparecer para detener el bucle: 4\n",
            "pnsms dmsd y "
          ]
        }
      ]
    },
    {
      "cell_type": "code",
      "source": [
        "for i in range(1,11):\n",
        "    print(f'Tabla de multiplical del número {i}'.center(60,'='))\n",
        "    for j in range(1,21):\n",
        "        print(f'{i} x {j} : {i*j}'.center(60,' '))\n",
        "    print('\\n')"
      ],
      "metadata": {
        "colab": {
          "base_uri": "https://localhost:8080/"
        },
        "id": "mAnsCm6LU2nF",
        "outputId": "ef0cbfe6-d70e-4f52-92d6-f8ae0c57cd21"
      },
      "execution_count": null,
      "outputs": [
        {
          "output_type": "stream",
          "name": "stdout",
          "text": [
            "=============Tabla de multiplical del número 1==============\n",
            "                         1 x 1 : 1                          \n",
            "                         1 x 2 : 2                          \n",
            "                         1 x 3 : 3                          \n",
            "                         1 x 4 : 4                          \n",
            "                         1 x 5 : 5                          \n",
            "                         1 x 6 : 6                          \n",
            "                         1 x 7 : 7                          \n",
            "                         1 x 8 : 8                          \n",
            "                         1 x 9 : 9                          \n",
            "                        1 x 10 : 10                         \n",
            "                        1 x 11 : 11                         \n",
            "                        1 x 12 : 12                         \n",
            "                        1 x 13 : 13                         \n",
            "                        1 x 14 : 14                         \n",
            "                        1 x 15 : 15                         \n",
            "                        1 x 16 : 16                         \n",
            "                        1 x 17 : 17                         \n",
            "                        1 x 18 : 18                         \n",
            "                        1 x 19 : 19                         \n",
            "                        1 x 20 : 20                         \n",
            "\n",
            "\n",
            "=============Tabla de multiplical del número 2==============\n",
            "                         2 x 1 : 2                          \n",
            "                         2 x 2 : 4                          \n",
            "                         2 x 3 : 6                          \n",
            "                         2 x 4 : 8                          \n",
            "                         2 x 5 : 10                         \n",
            "                         2 x 6 : 12                         \n",
            "                         2 x 7 : 14                         \n",
            "                         2 x 8 : 16                         \n",
            "                         2 x 9 : 18                         \n",
            "                        2 x 10 : 20                         \n",
            "                        2 x 11 : 22                         \n",
            "                        2 x 12 : 24                         \n",
            "                        2 x 13 : 26                         \n",
            "                        2 x 14 : 28                         \n",
            "                        2 x 15 : 30                         \n",
            "                        2 x 16 : 32                         \n",
            "                        2 x 17 : 34                         \n",
            "                        2 x 18 : 36                         \n",
            "                        2 x 19 : 38                         \n",
            "                        2 x 20 : 40                         \n",
            "\n",
            "\n",
            "=============Tabla de multiplical del número 3==============\n",
            "                         3 x 1 : 3                          \n",
            "                         3 x 2 : 6                          \n",
            "                         3 x 3 : 9                          \n",
            "                         3 x 4 : 12                         \n",
            "                         3 x 5 : 15                         \n",
            "                         3 x 6 : 18                         \n",
            "                         3 x 7 : 21                         \n",
            "                         3 x 8 : 24                         \n",
            "                         3 x 9 : 27                         \n",
            "                        3 x 10 : 30                         \n",
            "                        3 x 11 : 33                         \n",
            "                        3 x 12 : 36                         \n",
            "                        3 x 13 : 39                         \n",
            "                        3 x 14 : 42                         \n",
            "                        3 x 15 : 45                         \n",
            "                        3 x 16 : 48                         \n",
            "                        3 x 17 : 51                         \n",
            "                        3 x 18 : 54                         \n",
            "                        3 x 19 : 57                         \n",
            "                        3 x 20 : 60                         \n",
            "\n",
            "\n",
            "=============Tabla de multiplical del número 4==============\n",
            "                         4 x 1 : 4                          \n",
            "                         4 x 2 : 8                          \n",
            "                         4 x 3 : 12                         \n",
            "                         4 x 4 : 16                         \n",
            "                         4 x 5 : 20                         \n",
            "                         4 x 6 : 24                         \n",
            "                         4 x 7 : 28                         \n",
            "                         4 x 8 : 32                         \n",
            "                         4 x 9 : 36                         \n",
            "                        4 x 10 : 40                         \n",
            "                        4 x 11 : 44                         \n",
            "                        4 x 12 : 48                         \n",
            "                        4 x 13 : 52                         \n",
            "                        4 x 14 : 56                         \n",
            "                        4 x 15 : 60                         \n",
            "                        4 x 16 : 64                         \n",
            "                        4 x 17 : 68                         \n",
            "                        4 x 18 : 72                         \n",
            "                        4 x 19 : 76                         \n",
            "                        4 x 20 : 80                         \n",
            "\n",
            "\n",
            "=============Tabla de multiplical del número 5==============\n",
            "                         5 x 1 : 5                          \n",
            "                         5 x 2 : 10                         \n",
            "                         5 x 3 : 15                         \n",
            "                         5 x 4 : 20                         \n",
            "                         5 x 5 : 25                         \n",
            "                         5 x 6 : 30                         \n",
            "                         5 x 7 : 35                         \n",
            "                         5 x 8 : 40                         \n",
            "                         5 x 9 : 45                         \n",
            "                        5 x 10 : 50                         \n",
            "                        5 x 11 : 55                         \n",
            "                        5 x 12 : 60                         \n",
            "                        5 x 13 : 65                         \n",
            "                        5 x 14 : 70                         \n",
            "                        5 x 15 : 75                         \n",
            "                        5 x 16 : 80                         \n",
            "                        5 x 17 : 85                         \n",
            "                        5 x 18 : 90                         \n",
            "                        5 x 19 : 95                         \n",
            "                        5 x 20 : 100                        \n",
            "\n",
            "\n",
            "=============Tabla de multiplical del número 6==============\n",
            "                         6 x 1 : 6                          \n",
            "                         6 x 2 : 12                         \n",
            "                         6 x 3 : 18                         \n",
            "                         6 x 4 : 24                         \n",
            "                         6 x 5 : 30                         \n",
            "                         6 x 6 : 36                         \n",
            "                         6 x 7 : 42                         \n",
            "                         6 x 8 : 48                         \n",
            "                         6 x 9 : 54                         \n",
            "                        6 x 10 : 60                         \n",
            "                        6 x 11 : 66                         \n",
            "                        6 x 12 : 72                         \n",
            "                        6 x 13 : 78                         \n",
            "                        6 x 14 : 84                         \n",
            "                        6 x 15 : 90                         \n",
            "                        6 x 16 : 96                         \n",
            "                        6 x 17 : 102                        \n",
            "                        6 x 18 : 108                        \n",
            "                        6 x 19 : 114                        \n",
            "                        6 x 20 : 120                        \n",
            "\n",
            "\n",
            "=============Tabla de multiplical del número 7==============\n",
            "                         7 x 1 : 7                          \n",
            "                         7 x 2 : 14                         \n",
            "                         7 x 3 : 21                         \n",
            "                         7 x 4 : 28                         \n",
            "                         7 x 5 : 35                         \n",
            "                         7 x 6 : 42                         \n",
            "                         7 x 7 : 49                         \n",
            "                         7 x 8 : 56                         \n",
            "                         7 x 9 : 63                         \n",
            "                        7 x 10 : 70                         \n",
            "                        7 x 11 : 77                         \n",
            "                        7 x 12 : 84                         \n",
            "                        7 x 13 : 91                         \n",
            "                        7 x 14 : 98                         \n",
            "                        7 x 15 : 105                        \n",
            "                        7 x 16 : 112                        \n",
            "                        7 x 17 : 119                        \n",
            "                        7 x 18 : 126                        \n",
            "                        7 x 19 : 133                        \n",
            "                        7 x 20 : 140                        \n",
            "\n",
            "\n",
            "=============Tabla de multiplical del número 8==============\n",
            "                         8 x 1 : 8                          \n",
            "                         8 x 2 : 16                         \n",
            "                         8 x 3 : 24                         \n",
            "                         8 x 4 : 32                         \n",
            "                         8 x 5 : 40                         \n",
            "                         8 x 6 : 48                         \n",
            "                         8 x 7 : 56                         \n",
            "                         8 x 8 : 64                         \n",
            "                         8 x 9 : 72                         \n",
            "                        8 x 10 : 80                         \n",
            "                        8 x 11 : 88                         \n",
            "                        8 x 12 : 96                         \n",
            "                        8 x 13 : 104                        \n",
            "                        8 x 14 : 112                        \n",
            "                        8 x 15 : 120                        \n",
            "                        8 x 16 : 128                        \n",
            "                        8 x 17 : 136                        \n",
            "                        8 x 18 : 144                        \n",
            "                        8 x 19 : 152                        \n",
            "                        8 x 20 : 160                        \n",
            "\n",
            "\n",
            "=============Tabla de multiplical del número 9==============\n",
            "                         9 x 1 : 9                          \n",
            "                         9 x 2 : 18                         \n",
            "                         9 x 3 : 27                         \n",
            "                         9 x 4 : 36                         \n",
            "                         9 x 5 : 45                         \n",
            "                         9 x 6 : 54                         \n",
            "                         9 x 7 : 63                         \n",
            "                         9 x 8 : 72                         \n",
            "                         9 x 9 : 81                         \n",
            "                        9 x 10 : 90                         \n",
            "                        9 x 11 : 99                         \n",
            "                        9 x 12 : 108                        \n",
            "                        9 x 13 : 117                        \n",
            "                        9 x 14 : 126                        \n",
            "                        9 x 15 : 135                        \n",
            "                        9 x 16 : 144                        \n",
            "                        9 x 17 : 153                        \n",
            "                        9 x 18 : 162                        \n",
            "                        9 x 19 : 171                        \n",
            "                        9 x 20 : 180                        \n",
            "\n",
            "\n",
            "=============Tabla de multiplical del número 10=============\n",
            "                        10 x 1 : 10                         \n",
            "                        10 x 2 : 20                         \n",
            "                        10 x 3 : 30                         \n",
            "                        10 x 4 : 40                         \n",
            "                        10 x 5 : 50                         \n",
            "                        10 x 6 : 60                         \n",
            "                        10 x 7 : 70                         \n",
            "                        10 x 8 : 80                         \n",
            "                        10 x 9 : 90                         \n",
            "                       10 x 10 : 100                        \n",
            "                       10 x 11 : 110                        \n",
            "                       10 x 12 : 120                        \n",
            "                       10 x 13 : 130                        \n",
            "                       10 x 14 : 140                        \n",
            "                       10 x 15 : 150                        \n",
            "                       10 x 16 : 160                        \n",
            "                       10 x 17 : 170                        \n",
            "                       10 x 18 : 180                        \n",
            "                       10 x 19 : 190                        \n",
            "                       10 x 20 : 200                        \n",
            "\n",
            "\n"
          ]
        }
      ]
    },
    {
      "cell_type": "code",
      "source": [],
      "metadata": {
        "id": "cWJGnw99XZqO"
      },
      "execution_count": null,
      "outputs": []
    }
  ]
}